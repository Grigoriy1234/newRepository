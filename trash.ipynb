{
 "cells": [
  {
   "cell_type": "code",
   "execution_count": 14,
   "metadata": {},
   "outputs": [],
   "source": [
    "import numpy as np\n",
    "import pandas as pd\n",
    "import matplotlib.pyplot as plt"
   ]
  },
  {
   "cell_type": "code",
   "execution_count": 15,
   "metadata": {},
   "outputs": [],
   "source": [
    "def tr_matr(arr):\n",
    "    tr = [[]]\n",
    "    for i in range(len(arr[0])):\n",
    "        for j in range(len(arr)):\n",
    "            tr[i].append(arr[j][i])\n",
    "        if i != len(arr[0])-1:\n",
    "            tr.append([])\n",
    "    return tr "
   ]
  },
  {
   "cell_type": "code",
   "execution_count": 16,
   "metadata": {},
   "outputs": [],
   "source": [
    "def opred_matr(arr):\n",
    "    opr=0.\n",
    "    if len(arr) == 2:\n",
    "        opr=arr[0][0]*arr[1][1]-arr[0][1]*arr[1][0]\n",
    "    else:\n",
    "        for i in range(len(arr)):\n",
    "            tmpi=i\n",
    "            tmpOpr=1.\n",
    "            for j in range(len(arr)):\n",
    "                tmpOpr*=arr[tmpi][j]\n",
    "                tmpi+=1\n",
    "                if tmpi == len(arr):\n",
    "                    tmpi=0\n",
    "            opr+=tmpOpr\n",
    "        for i in range(len(arr)):\n",
    "            tmpi=i\n",
    "            tmpOpr=1.\n",
    "            for j in range(len(arr))[::-1]:\n",
    "                tmpOpr*=arr[tmpi][j]\n",
    "                tmpi+=1\n",
    "                if tmpi == len(arr):\n",
    "                    tmpi=0\n",
    "            opr-=tmpOpr\n",
    "    return opr "
   ]
  },
  {
   "cell_type": "code",
   "execution_count": 17,
   "metadata": {},
   "outputs": [],
   "source": [
    "def obr_matr(arr):\n",
    "    opr=opred_matr(arr)\n",
    "    if opr != 0:\n",
    "        obr=[[]]\n",
    "        tmp_arr = arr.copy()\n",
    "        tmp_arr = tr_matr(tmp_arr)\n",
    "        for i in range(len(tmp_arr)):\n",
    "            for j in range(len(tmp_arr)):\n",
    "                dop_arr = []\n",
    "                for i2 in range(len(tmp_arr)):\n",
    "                    for j2 in range(len(tmp_arr)):\n",
    "                        if i2!=i and j2!=j:\n",
    "                            dop_arr.append(tmp_arr[i2][j2])\n",
    "                dop_arr2=[[dop_arr[0],dop_arr[1]],[dop_arr[2],dop_arr[3]]]\n",
    "                obr.append(round(((-1)**(i+j+2))*(opred_matr(dop_arr2)),10))\n",
    "        obr=obr[1:]\n",
    "        for i in range(len(obr)):\n",
    "            obr[i]=obr[i]/opr        \n",
    "        obr=np.array(obr).reshape(3,3)         \n",
    "        return obr\n",
    "    else:\n",
    "        raise Exception('ERROR:opredelitel = 0')"
   ]
  },
  {
   "cell_type": "code",
   "execution_count": 18,
   "metadata": {},
   "outputs": [],
   "source": [
    "def arr3x3_x_vect1x3(arr,vect):\n",
    "    vect_out = [0.,0.,0.]\n",
    "    for i in range(3):\n",
    "        for j in range(3):\n",
    "            vect_out[i]+=arr[i][j]*vect[j]\n",
    "    return vect_out[::-1]  "
   ]
  },
  {
   "cell_type": "code",
   "execution_count": 19,
   "metadata": {},
   "outputs": [],
   "source": [
    " def print_parabola(XYp):\n",
    "    n=len(XYp['x'])\n",
    "    sumX = sum(XYp['x'])\n",
    "    sumY = sum(XYp['y'])\n",
    "    sumXY = 0.\n",
    "    sumXqrt = 0.\n",
    "    sum_Xqrt_Y = 0.\n",
    "    sumXqrt3 = 0.\n",
    "    sumXqrt4 = 0.\n",
    "\n",
    "    for i in range(len(XYp['y'])):\n",
    "        sumXY += XYp['x'][i]*XYp['y'][i]\n",
    "        sumXqrt += XYp['x'][i]**2\n",
    "        sum_Xqrt_Y += (XYp['x'][i]**2)*XYp['y'][i]\n",
    "        sumXqrt3 += XYp['x'][i]**3\n",
    "        sumXqrt4 += XYp['x'][i]**4\n",
    "    \n",
    "    obr_m = obr_matr([[n,      sumX,    sumXqrt ],\n",
    "                      [sumX,   sumXqrt, sumXqrt3],\n",
    "                      [sumXqrt,sumXqrt3,sumXqrt4]])\n",
    "\n",
    "    np.linalg.matrix_power([[n,      sumX,    sumXqrt ],\n",
    "                      [sumX,   sumXqrt, sumXqrt3],\n",
    "                      [sumXqrt,sumXqrt3,sumXqrt4]],-1)\n",
    "    vect = [sumY,\n",
    "            sumXY,\n",
    "            sum_Xqrt_Y]\n",
    "\n",
    "    abc_koef_parabola = arr3x3_x_vect1x3(obr_m,vect)\n",
    "    \n",
    "    XYf = {'x':XYp['x'].copy(),\n",
    "    'y':[(abc_koef_parabola[0]*(x**2)+abc_koef_parabola[1]*x+abc_koef_parabola[2]) for x in XYp['x']]}\n",
    "    \n",
    "    plt.plot(XYp['x'],XYp['y'],'ro')\n",
    "    plt.plot(XYf['x'],XYf['y'],'b')\n",
    "    plt.text(min(XYp['x']),max(XYp['y']),'y = ('+str(round(abc_koef_parabola[0],3))+')x²+('+str(round(abc_koef_parabola[1],3))+')x+('+str(round(abc_koef_parabola[2],3))+')',color='blue')"
   ]
  },
  {
   "cell_type": "code",
   "execution_count": 20,
   "metadata": {},
   "outputs": [
    {
     "ename": "NameError",
     "evalue": "name 'parabola' is not defined",
     "output_type": "error",
     "traceback": [
      "\u001b[0;31m---------------------------------------------------------------------------\u001b[0m",
      "\u001b[0;31mNameError\u001b[0m                                 Traceback (most recent call last)",
      "\u001b[0;32m<ipython-input-20-6aa012bcee60>\u001b[0m in \u001b[0;36m<module>\u001b[0;34m\u001b[0m\n\u001b[1;32m      4\u001b[0m \u001b[0ms\u001b[0m\u001b[0;34m=\u001b[0m\u001b[0;36m1\u001b[0m\u001b[0;34m\u001b[0m\u001b[0;34m\u001b[0m\u001b[0m\n\u001b[1;32m      5\u001b[0m \u001b[0mXYp\u001b[0m\u001b[0;34m=\u001b[0m\u001b[0;34m{\u001b[0m\u001b[0;34m'x'\u001b[0m\u001b[0;34m:\u001b[0m\u001b[0mnp\u001b[0m\u001b[0;34m.\u001b[0m\u001b[0marray\u001b[0m\u001b[0;34m(\u001b[0m\u001b[0mnp\u001b[0m\u001b[0;34m.\u001b[0m\u001b[0marange\u001b[0m\u001b[0;34m(\u001b[0m\u001b[0;36m1\u001b[0m\u001b[0;34m,\u001b[0m\u001b[0;36m250\u001b[0m\u001b[0;34m,\u001b[0m\u001b[0;36m9.9\u001b[0m\u001b[0;34m)\u001b[0m\u001b[0;34m)\u001b[0m\u001b[0;34m}\u001b[0m\u001b[0;34m\u001b[0m\u001b[0;34m\u001b[0m\u001b[0m\n\u001b[0;32m----> 6\u001b[0;31m \u001b[0mXYp\u001b[0m\u001b[0;34m[\u001b[0m\u001b[0;34m'y'\u001b[0m\u001b[0;34m]\u001b[0m\u001b[0;34m=\u001b[0m\u001b[0mparabola\u001b[0m\u001b[0;34m(\u001b[0m\u001b[0mXYp\u001b[0m\u001b[0;34m[\u001b[0m\u001b[0;34m'x'\u001b[0m\u001b[0;34m]\u001b[0m\u001b[0;34m,\u001b[0m \u001b[0ma\u001b[0m\u001b[0;34m,\u001b[0m \u001b[0mb\u001b[0m\u001b[0;34m,\u001b[0m \u001b[0mc\u001b[0m\u001b[0;34m,\u001b[0m \u001b[0ms\u001b[0m\u001b[0;34m)\u001b[0m\u001b[0;34m\u001b[0m\u001b[0;34m\u001b[0m\u001b[0m\n\u001b[0m\u001b[1;32m      7\u001b[0m \u001b[0mprint_parabola\u001b[0m\u001b[0;34m(\u001b[0m\u001b[0mXYp\u001b[0m\u001b[0;34m)\u001b[0m\u001b[0;34m\u001b[0m\u001b[0;34m\u001b[0m\u001b[0m\n",
      "\u001b[0;31mNameError\u001b[0m: name 'parabola' is not defined"
     ]
    }
   ],
   "source": [
    "a=10.1223\n",
    "b=21.123\n",
    "c=21.123\n",
    "s=1\n",
    "XYp={'x':np.array(np.arange(1,250,9.9))}\n",
    "XYp['y']=parabola(XYp['x'], a, b, c, s)\n",
    "print_parabola(XYp)"
   ]
  },
  {
   "cell_type": "code",
   "execution_count": null,
   "metadata": {},
   "outputs": [],
   "source": []
  }
 ],
 "metadata": {
  "kernelspec": {
   "display_name": "Python 3",
   "language": "python",
   "name": "python3"
  },
  "language_info": {
   "codemirror_mode": {
    "name": "ipython",
    "version": 3
   },
   "file_extension": ".py",
   "mimetype": "text/x-python",
   "name": "python",
   "nbconvert_exporter": "python",
   "pygments_lexer": "ipython3",
   "version": "3.7.3"
  }
 },
 "nbformat": 4,
 "nbformat_minor": 2
}
