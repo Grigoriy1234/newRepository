{
 "cells": [
  {
   "cell_type": "code",
   "execution_count": 13,
   "metadata": {},
   "outputs": [],
   "source": [
    "import numpy as np\n",
    "import pandas as pd\n",
    "import matplotlib.pyplot as plt"
   ]
  },
  {
   "cell_type": "code",
   "execution_count": 14,
   "metadata": {},
   "outputs": [],
   "source": [
    "# Pair of points for 1 assignment\n",
    "points = np.array([\n",
    "    [[0, 0], [1, 1]],#task 0\n",
    "    [[0, 1], [-1, 1]],#task 1\n",
    "    [[0, 1], [-1, 1]]])#task 2"
   ]
  },
  {
   "cell_type": "code",
   "execution_count": 20,
   "metadata": {},
   "outputs": [],
   "source": [
    "task = 0  #{0,1,2}\n",
    "def print_line(points,task):\n",
    "    XYarr= np.array(points[task],float).reshape(len(points[task]),2)\n",
    "    n = len(XYarr)\n",
    "    \n",
    "    XYp = {'x':[i[0] for i in XYarr],'y':[i[1] for i in XYarr]}\n",
    "    sumX = sum(XYp['x'])\n",
    "    sumY = sum(XYp['y'])\n",
    "    sumXY = 0.\n",
    "    sumXqrt = 0.\n",
    "    \n",
    "    for i in XYarr:\n",
    "        sumXY += i[0]*i[1]    \n",
    "        sumXqrt += i[0]**2\n",
    "    \n",
    "    a = (n*sumXY - sumX*sumY)/(n*sumXqrt - sumX**2)\n",
    "    b = (sumY - a*sumX)/n\n",
    "    XYl1 = {'x':[min(XYp['x'])-3,max(XYp['x'])+3],'y':[]}\n",
    "    XYl1['y'] = [a*x+b for x in XYl1['x']]\n",
    "    \n",
    "    plt.plot(XYp['x'],XYp['y'],'ro')\n",
    "    plt.plot(XYl1['x'],XYl1['y'],color='blue')\n",
    "    plt.text((XYl1['x'][1]-(XYl1['x'][1]-XYl1['x'][0])*0.15),XYl1['y'][1],'line 1',color='blue')\n",
    "    plt.text(XYl1['x'][0],XYl1['y'][1],'y = ('+str(a)+')x+('+str(b)+')',color='black')"
   ]
  },
  {
   "cell_type": "code",
   "execution_count": 21,
   "metadata": {},
   "outputs": [
    {
     "data": {
      "image/png": "[encoded data removed]",
      "text/plain": [
       "<Figure size 432x288 with 1 Axes>"
      ]
     },
     "metadata": {
      "needs_background": "light"
     },
     "output_type": "display_data"
    }
   ],
   "source": [
    "print_line(points,task)"
   ]
  },
  {
   "cell_type": "code",
   "execution_count": null,
   "metadata": {},
   "outputs": [],
   "source": []
  }
 ],
 "metadata": {
  "kernelspec": {
   "display_name": "Python 3",
   "language": "python",
   "name": "python3"
  },
  "language_info": {
   "codemirror_mode": {
    "name": "ipython",
    "version": 3
   },
   "file_extension": ".py",
   "mimetype": "text/x-python",
   "name": "python",
   "nbconvert_exporter": "python",
   "pygments_lexer": "ipython3",
   "version": "3.7.3"
  }
 },
 "nbformat": 4,
 "nbformat_minor": 2
}
