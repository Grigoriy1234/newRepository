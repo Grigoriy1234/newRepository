{
 "cells": [
  {
   "cell_type": "code",
   "execution_count": 20,
   "metadata": {},
   "outputs": [],
   "source": [
    "import numpy as np\n",
    "import pandas as pd\n",
    "import matplotlib.pyplot as plt"
   ]
  },
  {
   "cell_type": "code",
   "execution_count": 21,
   "metadata": {},
   "outputs": [],
   "source": [
    "def parabola(x, a, b, c, s):\n",
    "    y = a*(x**2) + b*x + c\n",
    "    y += s * np.random.randn(len(y))\n",
    "    return y"
   ]
  },
  {
   "cell_type": "code",
   "execution_count": 22,
   "metadata": {},
   "outputs": [],
   "source": [
    "def tr_matr(arr):\n",
    "    tr = [[]]\n",
    "    for i in range(len(arr[0])):\n",
    "        for j in range(len(arr)):\n",
    "            tr[i].append(arr[j][i])\n",
    "        if i != len(arr[0])-1:\n",
    "            tr.append([])\n",
    "    return tr   "
   ]
  },
  {
   "cell_type": "code",
   "execution_count": 23,
   "metadata": {},
   "outputs": [],
   "source": [
    "def opred_matr(arr):\n",
    "    opr=0.\n",
    "    if len(arr) == 2:\n",
    "        opr=arr[0][0]*arr[1][1]-arr[0][1]*arr[1][0]\n",
    "    else:\n",
    "        for i in range(len(arr)):\n",
    "            tmpi=i\n",
    "            tmpOpr=1.\n",
    "            for j in range(len(arr)):\n",
    "                tmpOpr*=arr[tmpi][j]\n",
    "                tmpi+=1\n",
    "                if tmpi == len(arr):\n",
    "                    tmpi=0\n",
    "            opr+=tmpOpr\n",
    "        for i in range(len(arr)):\n",
    "            tmpi=i\n",
    "            tmpOpr=1.\n",
    "            for j in range(len(arr))[::-1]:\n",
    "                tmpOpr*=arr[tmpi][j]\n",
    "                tmpi+=1\n",
    "                if tmpi == len(arr):\n",
    "                    tmpi=0\n",
    "            opr-=tmpOpr\n",
    "    return opr "
   ]
  },
  {
   "cell_type": "code",
   "execution_count": 24,
   "metadata": {},
   "outputs": [],
   "source": [
    "def obr_matr(arr):\n",
    "    opr=opred_matr(arr)\n",
    "    if opr != 0:\n",
    "        obr=[[]]\n",
    "        tmp_arr = arr.copy()\n",
    "        tmp_arr = tr_matr(tmp_arr)\n",
    "        for i in range(len(tmp_arr)):\n",
    "            for j in range(len(tmp_arr)):\n",
    "                dop_arr = []\n",
    "                for i2 in range(len(tmp_arr)):\n",
    "                    for j2 in range(len(tmp_arr)):\n",
    "                        if i2!=i and j2!=j:\n",
    "                            dop_arr.append(tmp_arr[i2][j2])\n",
    "                dop_arr2=[[dop_arr[0],dop_arr[1]],[dop_arr[2],dop_arr[3]]]\n",
    "                obr.append(round(((-1)**(i+j+2))*(opred_matr(dop_arr2)),10))\n",
    "        obr=obr[1:]\n",
    "        for i in range(len(obr)):\n",
    "            obr[i]=obr[i]/opr        \n",
    "        obr=np.array(obr).reshape(3,3)         \n",
    "        return obr\n",
    "    else:\n",
    "        raise Exception('ERROR:opredelitel = 0')"
   ]
  },
  {
   "cell_type": "code",
   "execution_count": 25,
   "metadata": {},
   "outputs": [],
   "source": [
    "def arr3x3_x_vect1x3(arr,vect):\n",
    "    vect_out = [0.,0.,0.]\n",
    "    for i in range(3):\n",
    "        for j in range(3):\n",
    "            vect_out[i]+=arr[i][j]*vect[j]\n",
    "    return vect_out[::-1]           "
   ]
  },
  {
   "cell_type": "code",
   "execution_count": 26,
   "metadata": {},
   "outputs": [
    {
     "name": "stdout",
     "output_type": "stream",
     "text": [
      "point  0 [X= 1.0 ,Y= -43383.469813883916 ]\n",
      "point  1 [X= 10.9 ,Y= 16205.308472872555 ]\n",
      "point  2 [X= 20.8 ,Y= -649.3992439788535 ]\n",
      "point  3 [X= 30.700000000000003 ,Y= 48992.82103680936 ]\n",
      "point  4 [X= 40.6 ,Y= 71031.00176782117 ]\n",
      "point  5 [X= 50.5 ,Y= 19265.382745473642 ]\n",
      "point  6 [X= 60.400000000000006 ,Y= 31163.746874077915 ]\n",
      "point  7 [X= 70.3 ,Y= 54021.093898976535 ]\n",
      "point  8 [X= 80.2 ,Y= 104754.95985500855 ]\n",
      "point  9 [X= 90.10000000000001 ,Y= 93089.75860127667 ]\n",
      "point  10 [X= 100.0 ,Y= 109755.1771164777 ]\n",
      "point  11 [X= 109.9 ,Y= 104364.48075477281 ]\n",
      "point  12 [X= 119.80000000000001 ,Y= 158333.75183575798 ]\n",
      "point  13 [X= 129.70000000000002 ,Y= 154231.70066342686 ]\n",
      "point  14 [X= 139.6 ,Y= 239799.75828552837 ]\n",
      "point  15 [X= 149.5 ,Y= 227457.23261989086 ]\n",
      "point  16 [X= 159.4 ,Y= 268279.86656484706 ]\n",
      "point  17 [X= 169.3 ,Y= 333140.353988727 ]\n",
      "point  18 [X= 179.20000000000002 ,Y= 325757.3162256208 ]\n",
      "point  19 [X= 189.1 ,Y= 389272.3862602042 ]\n",
      "point  20 [X= 199.0 ,Y= 422361.1232186699 ]\n",
      "point  21 [X= 208.9 ,Y= 442999.87369917234 ]\n",
      "point  22 [X= 218.8 ,Y= 434751.14223571774 ]\n",
      "point  23 [X= 228.70000000000002 ,Y= 494575.67833810573 ]\n",
      "point  24 [X= 238.60000000000002 ,Y= 580790.5739723219 ]\n",
      "point  25 [X= 248.5 ,Y= 637212.1283324299 ]\n",
      "\n",
      "sumX  3243.5\n",
      "sumY  5717573.7483061245\n",
      "sumXY  1069748588.4669967\n",
      "sumXqrt  547966.25\n",
      "sum_Xqrt_Y  214905060617.19635\n",
      "sumXqrt3  104122026.12500001\n",
      "sumXqrt4  21101041194.564503\n"
     ]
    }
   ],
   "source": [
    "a=10.1223\n",
    "b=21.123\n",
    "c=21.123\n",
    "s=30000.3\n",
    "XYp={'x':np.array(np.arange(1,250,9.9))}\n",
    "XYp['y']=parabola(XYp['x'], a, b, c, s)\n",
    "\n",
    "n=len(XYp['x'])\n",
    "sumX = sum(XYp['x'])\n",
    "sumY = sum(XYp['y'])\n",
    "sumXY = 0.\n",
    "sumXqrt = 0.\n",
    "sum_Xqrt_Y = 0.\n",
    "sumXqrt3 = 0.\n",
    "sumXqrt4 = 0.\n",
    "\n",
    "for i in range(len(XYp['y'])):\n",
    "    sumXY += XYp['x'][i]*XYp['y'][i]\n",
    "    sumXqrt += XYp['x'][i]**2\n",
    "    sum_Xqrt_Y += (XYp['x'][i]**2)*XYp['y'][i]\n",
    "    sumXqrt3 += XYp['x'][i]**3\n",
    "    sumXqrt4 += XYp['x'][i]**4\n",
    "\n",
    "for i in range(len(XYp['y'])):\n",
    "    print('point ',i,'[X=',XYp['x'][i],',Y=',XYp['y'][i],']')\n",
    "\n",
    "print('\\nsumX ',sumX)\n",
    "print('sumY ',sumY)\n",
    "print('sumXY ',sumXY)\n",
    "print('sumXqrt ',sumXqrt)\n",
    "print('sum_Xqrt_Y ',sum_Xqrt_Y)\n",
    "print('sumXqrt3 ',sumXqrt3)\n",
    "print('sumXqrt4 ',sumXqrt4)"
   ]
  },
  {
   "cell_type": "code",
   "execution_count": 27,
   "metadata": {},
   "outputs": [
    {
     "name": "stdout",
     "output_type": "stream",
     "text": [
      "[8.677624700988076, 321.90205233545566, -3136.962490443606]\n"
     ]
    }
   ],
   "source": [
    "obr_m = obr_matr([[n,      sumX,    sumXqrt ],\n",
    "                  [sumX,   sumXqrt, sumXqrt3],\n",
    "                  [sumXqrt,sumXqrt3,sumXqrt4]])\n",
    "vect = [sumY,\n",
    "        sumXY,\n",
    "        sum_Xqrt_Y]\n",
    "\n",
    "abc_koef_parabola = arr3x3_x_vect1x3(obr_m,vect)\n",
    "print(abc_koef_parabola)"
   ]
  },
  {
   "cell_type": "code",
   "execution_count": 28,
   "metadata": {},
   "outputs": [
    {
     "name": "stdout",
     "output_type": "stream",
     "text": [
      "{'x': array([  1. ,  10.9,  20.8,  30.7,  40.6,  50.5,  60.4,  70.3,  80.2,\n",
      "        90.1, 100. , 109.9, 119.8, 129.7, 139.6, 149.5, 159.4, 169.3,\n",
      "       179.2, 189.1, 199. , 208.9, 218.8, 228.7, 238.6, 248.5]), 'y': [-2806.3828134071623, 1402.7584707372544, 7312.8877487693535, 14924.00502068914, 24236.1102864966, 35249.20354619175, 47963.284799774585, 62378.354047245084, 78494.4112886033, 96311.45652384918, 115829.48975298273, 137048.51097600398, 159968.52019291293, 184589.51740370956, 210911.50260839378, 238934.47580696578, 268658.4369994254, 300083.38618577283, 333209.3233660079, 368036.2485401305, 404564.1617081409, 442793.06287003896, 482722.95202582475, 524353.8291754982, 567685.6943190594, 612718.547456508]}\n"
     ]
    }
   ],
   "source": [
    "XYf = {'x':XYp['x'].copy(),\n",
    "       'y':[(abc_koef_parabola[0]*(x**2)+abc_koef_parabola[1]*x+abc_koef_parabola[2]) for x in XYp['x']]}\n",
    "print(XYf)"
   ]
  },
  {
   "cell_type": "code",
   "execution_count": 29,
   "metadata": {},
   "outputs": [
    {
     "data": {
      "text/plain": [
       "Text(1.0, 637212.1283324299, 'y = (8.678)x²+(321.902)x+(-3136.962)')"
      ]
     },
     "execution_count": 29,
     "metadata": {},
     "output_type": "execute_result"
    },
    {
     "data": {
      "image/png": "[encoded data removed]",
      "text/plain": [
       "<Figure size 432x288 with 1 Axes>"
      ]
     },
     "metadata": {
      "needs_background": "light"
     },
     "output_type": "display_data"
    }
   ],
   "source": [
    "plt.plot(XYp['x'],XYp['y'],'ro')\n",
    "plt.plot(XYf['x'],XYf['y'],'b')\n",
    "plt.text(min(XYp['x']),max(XYp['y']),'y = ('+str(round(abc_koef_parabola[0],3))+')x²+('+str(round(abc_koef_parabola[1],3))+')x+('+str(round(abc_koef_parabola[2],3))+')',color='blue')"
   ]
  },
  {
   "cell_type": "code",
   "execution_count": null,
   "metadata": {},
   "outputs": [],
   "source": []
  },
  {
   "cell_type": "code",
   "execution_count": null,
   "metadata": {},
   "outputs": [],
   "source": []
  },
  {
   "cell_type": "code",
   "execution_count": null,
   "metadata": {},
   "outputs": [],
   "source": []
  },
  {
   "cell_type": "code",
   "execution_count": null,
   "metadata": {},
   "outputs": [],
   "source": []
  },
  {
   "cell_type": "code",
   "execution_count": null,
   "metadata": {},
   "outputs": [],
   "source": []
  },
  {
   "cell_type": "code",
   "execution_count": null,
   "metadata": {},
   "outputs": [],
   "source": []
  }
 ],
 "metadata": {
  "kernelspec": {
   "display_name": "Python 3",
   "language": "python",
   "name": "python3"
  },
  "language_info": {
   "codemirror_mode": {
    "name": "ipython",
    "version": 3
   },
   "file_extension": ".py",
   "mimetype": "text/x-python",
   "name": "python",
   "nbconvert_exporter": "python",
   "pygments_lexer": "ipython3",
   "version": "3.7.3"
  }
 },
 "nbformat": 4,
 "nbformat_minor": 2
}
