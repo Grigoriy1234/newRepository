{
 "cells": [
  {
   "cell_type": "code",
   "execution_count": 60,
   "metadata": {},
   "outputs": [],
   "source": [
    "import numpy as np\n",
    "import pandas as pd\n",
    "import matplotlib.pyplot as plt\n",
    "import sklearn as sl"
   ]
  },
  {
   "cell_type": "code",
   "execution_count": 145,
   "metadata": {},
   "outputs": [],
   "source": [
    "def Split_dataset(file_path,percent):\n",
    "    names = ['sepal_length', 'sepal_width', 'petal_length', 'petal_width', 'class']\n",
    "    test_data=pd.DataFrame(columns=names)\n",
    "    train_data=pd.DataFrame(columns=names)\n",
    "    df = pd.read_csv(file_path, header=None, names=names)\n",
    "    \n",
    "    for i in range(len(df)):\n",
    "        if np.random.rand()<percent:\n",
    "            test_data.loc[len(test_data)]=list(df.loc[i])\n",
    "        else:\n",
    "            train_data.loc[len(train_data)]=list(df.loc[i])\n",
    "\n",
    "\n",
    "    return test_data,train_data"
   ]
  },
  {
   "cell_type": "code",
   "execution_count": 184,
   "metadata": {},
   "outputs": [],
   "source": [
    "file_path='iris.data'\n",
    "percent=0.65\n",
    "test_data,train_data=Split_dataset(file_path,percent)"
   ]
  },
  {
   "cell_type": "code",
   "execution_count": 185,
   "metadata": {},
   "outputs": [],
   "source": [
    "def Similarity(data_instances1,data_instances2,l=4):\n",
    "    return np.sqrt(sum([(data_instances1[i]-data_instances2[i])**2 for i in range(l)]))"
   ]
  },
  {
   "cell_type": "code",
   "execution_count": 186,
   "metadata": {},
   "outputs": [
    {
     "name": "stdout",
     "output_type": "stream",
     "text": [
      "[5.5, 2.4, 3.7, 1.0]\n",
      "[5.8, 2.7, 5.1, 1.9]\n",
      "1.7175564037317663\n"
     ]
    }
   ],
   "source": [
    "print(test_data.loc[40].tolist()[:-1])\n",
    "print(test_data.loc[50].tolist()[:-1])\n",
    "print(Similarity(test_data.loc[40].tolist()[:-1],test_data.loc[50].tolist()[:-1]))"
   ]
  },
  {
   "cell_type": "code",
   "execution_count": 242,
   "metadata": {},
   "outputs": [],
   "source": [
    "def get_kNeighbors(train_data,data_instances,k):\n",
    "    a = [[Similarity(data_instances,train_data.loc[i].tolist()),train_data.loc[i].tolist()]for i in range(len(train_data))]\n",
    "    a=sorted(a,key=lambda x:x[0])\n",
    "    return a [:k]"
   ]
  },
  {
   "cell_type": "code",
   "execution_count": 244,
   "metadata": {},
   "outputs": [
    {
     "data": {
      "text/plain": [
       "[[0.24494897427831747, [6.1, 3.0, 4.9, 1.8, 'Iris-virginica']],\n",
       " [0.360555127546399, [5.9, 3.2, 4.8, 1.8, 'Iris-versicolor']],\n",
       " [0.40000000000000024, [6.2, 2.8, 4.8, 1.8, 'Iris-virginica']]]"
      ]
     },
     "execution_count": 244,
     "metadata": {},
     "output_type": "execute_result"
    }
   ],
   "source": [
    "get_kNeighbors(train_data,[6,3,5,2],3)"
   ]
  },
  {
   "cell_type": "code",
   "execution_count": null,
   "metadata": {},
   "outputs": [],
   "source": []
  }
 ],
 "metadata": {
  "kernelspec": {
   "display_name": "Python 3",
   "language": "python",
   "name": "python3"
  },
  "language_info": {
   "codemirror_mode": {
    "name": "ipython",
    "version": 3
   },
   "file_extension": ".py",
   "mimetype": "text/x-python",
   "name": "python",
   "nbconvert_exporter": "python",
   "pygments_lexer": "ipython3",
   "version": "3.7.3"
  }
 },
 "nbformat": 4,
 "nbformat_minor": 2
}
