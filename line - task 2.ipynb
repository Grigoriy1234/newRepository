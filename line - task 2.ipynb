{
 "cells": [
  {
   "cell_type": "code",
   "execution_count": 2,
   "metadata": {},
   "outputs": [],
   "source": [
    "import numpy as np\n",
    "import pandas as pd\n",
    "import matplotlib.pyplot as plt"
   ]
  },
  {
   "cell_type": "code",
   "execution_count": 3,
   "metadata": {},
   "outputs": [],
   "source": [
    "def line(x, a, b, s):\n",
    "    \"\"\"\n",
    "    :param x: vector of x values, np.arange(-10, 10, 0.1)\n",
    "    :param a: a parameter of the line\n",
    "    :param b: b parameter of the line\n",
    "    :param s: sigma parameret of the noise (with normal distribution)\n",
    "    \"\"\"\n",
    "    y = a*x + b\n",
    "    y += s * np.random.randn(len(y))\n",
    "    \n",
    "    return y"
   ]
  },
  {
   "cell_type": "code",
   "execution_count": 4,
   "metadata": {},
   "outputs": [
    {
     "data": {
      "text/plain": [
       "[<matplotlib.lines.Line2D at 0x7fab2039bf28>]"
      ]
     },
     "execution_count": 4,
     "metadata": {},
     "output_type": "execute_result"
    },
    {
     "data": {
      "image/png": "[encoded data removed]",
      "text/plain": [
       "<Figure size 432x288 with 1 Axes>"
      ]
     },
     "metadata": {
      "needs_background": "light"
     },
     "output_type": "display_data"
    }
   ],
   "source": [
    "a=-12.\n",
    "b=-2.\n",
    "s=5.\n",
    "\n",
    "XYp={'x':np.array(np.arange(1,25,2.3)),'y':np.array([])}\n",
    "XYp['y'] = line(XYp['x'], a, b, s)\n",
    "\n",
    "plt.plot(XYp['x'],XYp['y'],'ro')"
   ]
  },
  {
   "cell_type": "code",
   "execution_count": 5,
   "metadata": {},
   "outputs": [],
   "source": [
    "def print_line(XYp):\n",
    "    n = len(XYp['x'])\n",
    "    \n",
    "    sumX = sum(XYp['x'])\n",
    "    sumY = sum(XYp['y'])\n",
    "    sumXY = 0.\n",
    "    sumXqrt = 0.\n",
    "    sum_Xqrt_Y = 0.\n",
    "    sumXqrt3 = 0.\n",
    "    sumXqrt4 = 0.\n",
    "    \n",
    "    for i in range(len(XYp['y'])):\n",
    "        sumXY += XYp['x'][i]*XYp['y'][i]\n",
    "        sumXqrt += XYp['x'][i]**2\n",
    "    \n",
    "    a = (n*sumXY - sumX*sumY)/(n*sumXqrt - sumX**2)\n",
    "    b = (sumY - a*sumX)/n\n",
    "    XYl1 = {'x':[min(XYp['x'])-3,max(XYp['x'])+3]}\n",
    "    XYl1['y'] = [a*i+b for i in XYl1['x']]\n",
    "    XYl2 = {'x':XYp['x'].copy()}\n",
    "    XYl2['y'] = [(((i+1)**(1./3))+1) for i in XYl2['x']]\n",
    "    \n",
    "    otkl1 = 0.\n",
    "    for i in range(n):\n",
    "        otkl1 += ((XYp['y'][i]-((a*XYp['x'][i])+b))**2)\n",
    "\n",
    "    otkl2 = 0.    \n",
    "    for i in range(n):\n",
    "        otkl2 += ((XYp['y'][i]-((XYp['x'][i]+1)**(1./3)+1))**2)\n",
    "    \n",
    "    plt.plot(XYp['x'],XYp['y'],'ro')\n",
    "    \n",
    "    plt.plot(XYl1['x'],XYl1['y'],color='blue')\n",
    "    plt.plot(XYl2['x'],XYl2['y'],color='Green')    \n",
    "\n",
    "    plt.text(XYl1['x'][0],XYl1['y'][1],'Pogreshnost 1 = '+str(round(otkl1,4)),color='blue')\n",
    "    plt.text(XYl1['x'][0],(XYl1['y'][1]-(XYl1['y'][1]-XYl1['y'][0])*0.07),'Pogreshnost 2 = '+str(round(otkl2,4)),color='Green')\n",
    "    plt.text(XYl1['x'][0],(XYl1['y'][1]-(XYl1['y'][1]-XYl1['y'][0])*0.15),'a = '+str(round(a,4))+'     b = '+str(round(b,4)),color='black')\n",
    "    plt.text((XYl1['x'][1]-(XYl1['x'][1]-XYl1['x'][0])*0.15),XYl1['y'][1],'line 1',color='blue')\n",
    "    plt.text((XYl2['x'][-1]+(XYl1['x'][1]-XYl1['x'][0])*0.05),XYl2['y'][-1],'line 2',color='Green')"
   ]
  },
  {
   "cell_type": "code",
   "execution_count": 6,
   "metadata": {},
   "outputs": [
    {
     "data": {
      "image/png": "[encoded data removed]",
      "text/plain": [
       "<Figure size 432x288 with 1 Axes>"
      ]
     },
     "metadata": {
      "needs_background": "light"
     },
     "output_type": "display_data"
    }
   ],
   "source": [
    "print_line(XYp)"
   ]
  },
  {
   "cell_type": "code",
   "execution_count": null,
   "metadata": {},
   "outputs": [],
   "source": []
  },
  {
   "cell_type": "code",
   "execution_count": null,
   "metadata": {},
   "outputs": [],
   "source": []
  },
  {
   "cell_type": "code",
   "execution_count": null,
   "metadata": {},
   "outputs": [],
   "source": []
  },
  {
   "cell_type": "code",
   "execution_count": null,
   "metadata": {},
   "outputs": [],
   "source": []
  },
  {
   "cell_type": "code",
   "execution_count": null,
   "metadata": {},
   "outputs": [],
   "source": []
  },
  {
   "cell_type": "code",
   "execution_count": null,
   "metadata": {},
   "outputs": [],
   "source": []
  },
  {
   "cell_type": "code",
   "execution_count": null,
   "metadata": {},
   "outputs": [],
   "source": []
  },
  {
   "cell_type": "code",
   "execution_count": null,
   "metadata": {},
   "outputs": [],
   "source": []
  },
  {
   "cell_type": "code",
   "execution_count": null,
   "metadata": {},
   "outputs": [],
   "source": []
  },
  {
   "cell_type": "code",
   "execution_count": null,
   "metadata": {},
   "outputs": [],
   "source": []
  },
  {
   "cell_type": "code",
   "execution_count": null,
   "metadata": {},
   "outputs": [],
   "source": []
  },
  {
   "cell_type": "code",
   "execution_count": null,
   "metadata": {},
   "outputs": [],
   "source": []
  },
  {
   "cell_type": "code",
   "execution_count": null,
   "metadata": {},
   "outputs": [],
   "source": []
  }
 ],
 "metadata": {
  "kernelspec": {
   "display_name": "Python 3",
   "language": "python",
   "name": "python3"
  },
  "language_info": {
   "codemirror_mode": {
    "name": "ipython",
    "version": 3
   },
   "file_extension": ".py",
   "mimetype": "text/x-python",
   "name": "python",
   "nbconvert_exporter": "python",
   "pygments_lexer": "ipython3",
   "version": "3.7.3"
  }
 },
 "nbformat": 4,
 "nbformat_minor": 2
}
