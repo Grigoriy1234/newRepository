{
 "cells": [
  {
   "cell_type": "code",
   "execution_count": 1,
   "metadata": {},
   "outputs": [],
   "source": [
    "import numpy as np\n",
    "import pandas as pd\n",
    "import sklearn as sl"
   ]
  },
  {
   "cell_type": "code",
   "execution_count": 2,
   "metadata": {},
   "outputs": [],
   "source": [
    "def Split_dataset(file_path,percent):\n",
    "    names = ['sepal_length', 'sepal_width', 'petal_length', 'petal_width', 'class']\n",
    "    test_data=pd.DataFrame(columns=names)\n",
    "    train_data=pd.DataFrame(columns=names)\n",
    "    df = pd.read_csv(file_path, header=None, names=names)\n",
    "    \n",
    "    for i in range(len(df)):\n",
    "        if np.random.rand()<percent:\n",
    "            test_data.loc[len(test_data)]=list(df.loc[i])\n",
    "        else:\n",
    "            train_data.loc[len(train_data)]=list(df.loc[i])\n",
    "\n",
    "\n",
    "    return test_data,train_data"
   ]
  },
  {
   "cell_type": "code",
   "execution_count": 10,
   "metadata": {},
   "outputs": [],
   "source": [
    "file_path='iris.data'\n",
    "percent=0.25 # test_data -> percent & train_data -> 1-percent\n",
    "test_data,train_data=Split_dataset(file_path,percent)"
   ]
  },
  {
   "cell_type": "code",
   "execution_count": 11,
   "metadata": {},
   "outputs": [],
   "source": [
    "def Similarity(data_instances1,data_instances2,l=4):#Euclidean metric\n",
    "    return np.sqrt(sum([(data_instances1[i]-data_instances2[i])**2 for i in range(l)]))"
   ]
  },
  {
   "cell_type": "code",
   "execution_count": 12,
   "metadata": {},
   "outputs": [],
   "source": [
    "def get_kNeighbors(train_data,data_instances,k):\n",
    "    Neighbors = [[Similarity(data_instances,train_data.loc[i].tolist()),train_data.loc[i].tolist()]for i in range(len(train_data))]\n",
    "    Neighbors=sorted(Neighbors,key=lambda x:x[0])\n",
    "    return Neighbors[:k]"
   ]
  },
  {
   "cell_type": "code",
   "execution_count": 13,
   "metadata": {},
   "outputs": [],
   "source": [
    "def get_Response(Neighbors):\n",
    "    Iris_type = {}\n",
    "    for j in Neighbors:\n",
    "        if j[1][-1] not in Iris_type:\n",
    "            Iris_type[j[1][-1]]=1\n",
    "        else:\n",
    "            Iris_type[j[1][-1]]+=1\n",
    "    prediction=[0,'']\n",
    "    for j in Iris_type.keys():\n",
    "        if Iris_type[j]>prediction[0]:\n",
    "            prediction[0]=Iris_type[j]\n",
    "            prediction[1]=j\n",
    "    return prediction[-1]"
   ]
  },
  {
   "cell_type": "code",
   "execution_count": 14,
   "metadata": {},
   "outputs": [],
   "source": [
    "def get_accuracy(train_data,test_data,k_Neighbors):\n",
    "    success=0\n",
    "    for i in range(len(test_data)):\n",
    "        test=test_data.loc[i].tolist()\n",
    "        #print('Проверка: ',test)\n",
    "        Neighbors = get_kNeighbors(train_data,test,k_Neighbors)\n",
    "        #print('\\nБлижайшние данные к проверяемым:\\n',[i[1][-1] for i in Neighbors])\n",
    "        prediction = get_Response(Neighbors)\n",
    "        #print('Предсказание:\\n',prediction)\n",
    "        if test[-1]==prediction:\n",
    "            success+=1\n",
    "            #print('\\nПредсказание верное\\n\\n\\n')\n",
    "    return (success/len(test_data))"
   ]
  },
  {
   "cell_type": "code",
   "execution_count": 15,
   "metadata": {},
   "outputs": [],
   "source": [
    "k_Neighbors=5\n",
    "per_success=get_accuracy(train_data,test_data,k_Neighbors)"
   ]
  },
  {
   "cell_type": "code",
   "execution_count": 16,
   "metadata": {},
   "outputs": [
    {
     "name": "stdout",
     "output_type": "stream",
     "text": [
      "percent success: 0.975 %\n"
     ]
    }
   ],
   "source": [
    "print('percent success:',round(per_success,3),'%')"
   ]
  },
  {
   "cell_type": "code",
   "execution_count": null,
   "metadata": {},
   "outputs": [],
   "source": []
  }
 ],
 "metadata": {
  "kernelspec": {
   "display_name": "Python 3",
   "language": "python",
   "name": "python3"
  },
  "language_info": {
   "codemirror_mode": {
    "name": "ipython",
    "version": 3
   },
   "file_extension": ".py",
   "mimetype": "text/x-python",
   "name": "python",
   "nbconvert_exporter": "python",
   "pygments_lexer": "ipython3",
   "version": "3.7.3"
  }
 },
 "nbformat": 4,
 "nbformat_minor": 2
}
