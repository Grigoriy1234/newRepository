{
 "cells": [
  {
   "cell_type": "code",
   "execution_count": 4,
   "metadata": {},
   "outputs": [],
   "source": [
    "import numpy as np\n",
    "import pandas as pd\n",
    "import matplotlib.pyplot as plt"
   ]
  },
  {
   "cell_type": "code",
   "execution_count": 5,
   "metadata": {},
   "outputs": [],
   "source": [
    "def print_line_2points(points):#from line-task 1\n",
    "    XYarr= points.copy()\n",
    "    n = len(XYarr)\n",
    "    \n",
    "    XYp = {'x':[i[0] for i in XYarr],'y':[i[1] for i in XYarr]}\n",
    "    sumX = sum(XYp['x'])\n",
    "    sumY = sum(XYp['y'])\n",
    "    sumXY = 0.\n",
    "    sumXqrt = 0.\n",
    "    \n",
    "    for i in XYarr:\n",
    "        sumXY += i[0]*i[1]    \n",
    "        sumXqrt += i[0]**2\n",
    "    \n",
    "    \n",
    "    if n*sumXqrt - sumX**2 != 0:\n",
    "        a = (n*sumXY - sumX*sumY)/(n*sumXqrt - sumX**2)\n",
    "        b = (sumY - a*sumX)/n\n",
    "        return a,b\n",
    "    else:\n",
    "        return 0.,0."
   ]
  },
  {
   "cell_type": "code",
   "execution_count": 41,
   "metadata": {},
   "outputs": [],
   "source": [
    "def print_RANSAC(points,t,k):\n",
    "    model = [0.,0.]\n",
    "    inline_size = 0.\n",
    "    for i in range(k):\n",
    "        model_tmp = [0.,0.]\n",
    "        inline_size_tmp = 0.\n",
    "        number_2p=[np.random.randint(1,len(points[0])-1),np.random.randint(1,len(points[0])-1)]        \n",
    "                \n",
    "        two_points = [[points[0][number_2p[0]],points[1][number_2p[0]]],[points[0][number_2p[1]],points[1][number_2p[1]]]]\n",
    "        a,b = print_line_2points(two_points)\n",
    "        model_tmp = [a,b]\n",
    "        \n",
    "        for j in range(len(points[0])):\n",
    "            x = points[0][j]\n",
    "            y = points[1][j]\n",
    "            \n",
    "            y1 = a*x+(b-t)\n",
    "            y2 = a*x+(b+t)\n",
    "            \n",
    "            if (y1>y2):\n",
    "                y1,y2 = y2,y1\n",
    "            \n",
    "            if (y1<y and y<y2):\n",
    "                inline_size_tmp+=1\n",
    "        \n",
    "        if (inline_size< inline_size_tmp):\n",
    "            model = model_tmp\n",
    "            inline_size = inline_size_tmp\n",
    "                \n",
    "        \n",
    "    a = model[0]\n",
    "    b = model[1]\n",
    "    XYl={'x':[min(points[0]),max(points[0])]}\n",
    "    XYl['y'] = [a*x+b for x in XYl['x']]\n",
    "    return [[a,b],XYl,inline_size]"
   ]
  },
  {
   "cell_type": "code",
   "execution_count": 42,
   "metadata": {},
   "outputs": [],
   "source": [
    "def get_noise(MinXY,MaxXY,size_points):\n",
    "    return [[np.random.uniform(MinXY[0],MaxXY[0]) for i in range(size_points)],[np.random.uniform(MinXY[1],MaxXY[1]) for i in range(size_points)]]"
   ]
  },
  {
   "cell_type": "code",
   "execution_count": 43,
   "metadata": {},
   "outputs": [],
   "source": [
    "def F(x,par,s=0):\n",
    "    y = 0.\n",
    "    for i in range(len(par)):\n",
    "        y+=par[len(par)-i-1]*(x)**i\n",
    "    y += s * np.random.randn(len(y))\n",
    "    return y"
   ]
  },
  {
   "cell_type": "code",
   "execution_count": 44,
   "metadata": {},
   "outputs": [],
   "source": [
    "def get_points(power=1,count=1,b=None,s=1,noise=False,noise_CountPoints=0,delta_noise=0.,deltaGrafics=1,\n",
    "               randMIN_b=-10,randMAX_b=10,randMIN_x=-35,randMAX_x=35,randDelta_x=None,step_x=3.9,\n",
    "               function_CountPoints = None):\n",
    "    \n",
    "    if b!=None and (len(b)!=power+1 and power!=1):\n",
    "        raise Exception(\"Too few parametrs 'b=[a,b,c,...]'\")\n",
    "    elif power==1:\n",
    "        power=len(b)-1\n",
    "    if b==None:\n",
    "        b = [np.random.uniform(randMIN_b,randMAX_b) for i in range(power+1)]\n",
    "    \n",
    "    if randDelta_x==None:\n",
    "        randDelta_x=(randMAX_x-randMIN_x)/2\n",
    "    Min_x=np.random.uniform(randMIN_x,randMIN_x+randDelta_x)\n",
    "    Max_x=np.random.uniform(randMAX_x-randDelta_x,randMAX_x)\n",
    "        \n",
    "    if function_CountPoints != None:\n",
    "        step_x=((Max_x-Min_x)+1)/function_CountPoints\n",
    "    \n",
    "    X=np.arange(Min_x,Max_x,step_x) \n",
    "    \n",
    "    Ytmp=[[F(X,(b[:-1]+[b[-1]+(i*(count**3)*b[0]*50*deltaGrafics)]),s)] for i in range(count)]\n",
    "    Y=[j for i in range(count) for j in Ytmp[i][0].tolist()]\n",
    "    del Ytmp    \n",
    "       \n",
    "    XYp={'x':X.tolist()*count,'y':Y}\n",
    "    if (noise):\n",
    "        XYn=get_noise([min(XYp['x'])-delta_noise,min(XYp['y'])-delta_noise],\n",
    "                      [max(XYp['x'])+delta_noise,max(XYp['y'])+delta_noise],noise_CountPoints)\n",
    "        XYp['x']+=XYn[0]\n",
    "        XYp['y']+=XYn[1]\n",
    "    \n",
    "    return XYp"
   ]
  },
  {
   "cell_type": "code",
   "execution_count": 211,
   "metadata": {},
   "outputs": [],
   "source": [
    "def find_function(XYp,t=100,k=150,proz=0.85,):\n",
    "    XYp_tmp={'x':XYp['x'].copy(),'y':XYp['y'].copy()}\n",
    "    inline_size=0.\n",
    "    ab=[]\n",
    "    \n",
    "    while True:    \n",
    "        inline_size_tmp=0.\n",
    "        \n",
    "        RANS = print_RANSAC([XYp_tmp['x'],XYp_tmp['y']],t,k)\n",
    "        #print(RANS[0])\n",
    "        a=RANS[0][0]\n",
    "        b=RANS[0][1]\n",
    "        ab=ab+[[a,b]]\n",
    "        inline_size_tmp=RANS[2]\n",
    "        #print(a,'\\n',b,'inli = ',inline_size)\n",
    "        \n",
    "        if inline_size_tmp>inline_size: \n",
    "            inline_size=inline_size_tmp\n",
    "        \n",
    "        i=0\n",
    "        while True:\n",
    "            x = XYp_tmp['x'][i]\n",
    "            y = XYp_tmp['y'][i]\n",
    "            \n",
    "            y1 = a*x+(b-t)\n",
    "            y2 = a*x+(b+t)\n",
    "            \n",
    "            if (y1>y2):\n",
    "                y1,y2 = y2,y1\n",
    "            \n",
    "            if (y1<y and y<y2):\n",
    "                del XYp_tmp['x'][i]\n",
    "                del XYp_tmp['y'][i]\n",
    "                i-=1\n",
    "                #print('@')\n",
    "            #print('i=',i,y1,'\\t',y,'\\t',y2,'\\n',len(XYp_tmp['x']))\n",
    "            i+=1\n",
    "            if i>=len(XYp_tmp['x'])-1:\n",
    "                break \n",
    "            \n",
    "        \n",
    "        #print('_tmp =',inline_size_tmp,'inl =',inline_size,'*pr =',inline_size*proz)\n",
    "        if inline_size_tmp<inline_size*proz:\n",
    "            break\n",
    "    \n",
    "        \n",
    "    return ab"
   ]
  },
  {
   "cell_type": "code",
   "execution_count": 220,
   "metadata": {},
   "outputs": [
    {
     "data": {
      "text/plain": [
       "[<matplotlib.lines.Line2D at 0x7f9319d32f60>]"
      ]
     },
     "execution_count": 220,
     "metadata": {},
     "output_type": "execute_result"
    },
    {
     "data": {
      "image/png": "[encoded data removed]",
      "text/plain": [
       "<Figure size 432x288 with 1 Axes>"
      ]
     },
     "metadata": {
      "needs_background": "light"
     },
     "output_type": "display_data"
    }
   ],
   "source": [
    "a=28\n",
    "b=1\n",
    "c=3\n",
    "points=get_points(b=[a,b],s=205,randDelta_x=5,count=2,power=1,randMIN_x=-1750,randMAX_x=1750,\n",
    "           function_CountPoints =20,deltaGrafics=2,noise=True,noise_CountPoints=150,delta_noise=1500)\n",
    "plt.plot(points['x'],points['y'],'ro')"
   ]
  },
  {
   "cell_type": "code",
   "execution_count": 224,
   "metadata": {},
   "outputs": [
    {
     "data": {
      "image/png": "[encoded data removed]",
      "text/plain": [
       "<Figure size 432x288 with 1 Axes>"
      ]
     },
     "metadata": {
      "needs_background": "light"
     },
     "output_type": "display_data"
    }
   ],
   "source": [
    "ab = find_function(points,proz=0.95)\n",
    "plt.plot(points['x'],points['y'],'ro')\n",
    "\n",
    "for i in ab:\n",
    "    XY=get_points(b=i,randMIN_x=min(points['x']),randMAX_x=max(points['x']),randDelta_x=5)\n",
    "    plt.plot(XY['x'],XY['y'],'b')"
   ]
  },
  {
   "cell_type": "code",
   "execution_count": null,
   "metadata": {},
   "outputs": [],
   "source": []
  },
  {
   "cell_type": "code",
   "execution_count": null,
   "metadata": {},
   "outputs": [],
   "source": []
  }
 ],
 "metadata": {
  "kernelspec": {
   "display_name": "Python 3",
   "language": "python",
   "name": "python3"
  },
  "language_info": {
   "codemirror_mode": {
    "name": "ipython",
    "version": 3
   },
   "file_extension": ".py",
   "mimetype": "text/x-python",
   "name": "python",
   "nbconvert_exporter": "python",
   "pygments_lexer": "ipython3",
   "version": "3.7.3"
  }
 },
 "nbformat": 4,
 "nbformat_minor": 2
}
