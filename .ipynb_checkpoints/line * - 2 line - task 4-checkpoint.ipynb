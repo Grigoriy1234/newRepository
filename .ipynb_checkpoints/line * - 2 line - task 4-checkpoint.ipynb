{
 "cells": [
  {
   "cell_type": "code",
   "execution_count": 1,
   "metadata": {},
   "outputs": [],
   "source": [
    "import numpy as np\n",
    "import pandas as pd\n",
    "import matplotlib.pyplot as plt"
   ]
  },
  {
   "cell_type": "code",
   "execution_count": 2,
   "metadata": {},
   "outputs": [],
   "source": [
    "def print_line_2points(points):#from line-task 1\n",
    "    XYarr= points.copy()\n",
    "    n = len(XYarr)\n",
    "    \n",
    "    XYp = {'x':[i[0] for i in XYarr],'y':[i[1] for i in XYarr]}\n",
    "    sumX = sum(XYp['x'])\n",
    "    sumY = sum(XYp['y'])\n",
    "    sumXY = 0.\n",
    "    sumXqrt = 0.\n",
    "    \n",
    "    for i in XYarr:\n",
    "        sumXY += i[0]*i[1]    \n",
    "        sumXqrt += i[0]**2\n",
    "    \n",
    "    \n",
    "    if n*sumXqrt - sumX**2 != 0:\n",
    "        a = (n*sumXY - sumX*sumY)/(n*sumXqrt - sumX**2)\n",
    "        b = (sumY - a*sumX)/n\n",
    "        return a,b\n",
    "    else:\n",
    "        return 0.,0."
   ]
  },
  {
   "cell_type": "code",
   "execution_count": 3,
   "metadata": {},
   "outputs": [],
   "source": [
    "def print_RANSAC(points,t,k):\n",
    "    model = [0.,0.]\n",
    "    inline_size = 0.\n",
    "    for i in range(k):\n",
    "        model_tmp = [0.,0.]\n",
    "        inline_size_tmp = 0.\n",
    "        if len(points[0])<4:\n",
    "            break\n",
    "        number_2p=[np.random.randint(1,len(points[0])-1),np.random.randint(1,len(points[0])-1)] \n",
    "        two_points = [[points[0][number_2p[0]],points[1][number_2p[0]]],[points[0][number_2p[1]],points[1][number_2p[1]]]]\n",
    "        a,b = print_line_2points(two_points)\n",
    "        model_tmp = [a,b]\n",
    "        \n",
    "        for j in range(len(points[0])):\n",
    "            x = points[0][j]\n",
    "            y = points[1][j]\n",
    "            \n",
    "            y1 = a*x+(b-t)\n",
    "            y2 = a*x+(b+t)\n",
    "            \n",
    "            if (y1>y2):\n",
    "                y1,y2 = y2,y1\n",
    "            \n",
    "            if (y1<y and y<y2):\n",
    "                inline_size_tmp+=1\n",
    "        \n",
    "        if (inline_size< inline_size_tmp):\n",
    "            model = model_tmp\n",
    "            inline_size = inline_size_tmp\n",
    "                \n",
    "        \n",
    "    a = model[0]\n",
    "    b = model[1]\n",
    "    XYl={'x':[min(points[0]),max(points[0])]}\n",
    "    XYl['y'] = [a*x+b for x in XYl['x']]\n",
    "    return [[a,b],XYl,inline_size]"
   ]
  },
  {
   "cell_type": "code",
   "execution_count": 4,
   "metadata": {},
   "outputs": [],
   "source": [
    "def get_noise(MinXY,MaxXY,size_points):\n",
    "    return [[np.random.uniform(MinXY[0],MaxXY[0]) for i in range(size_points)],[np.random.uniform(MinXY[1],MaxXY[1]) for i in range(size_points)]]"
   ]
  },
  {
   "cell_type": "code",
   "execution_count": 5,
   "metadata": {},
   "outputs": [],
   "source": [
    "def F(x,par,s=0):\n",
    "    y = 0.\n",
    "    for i in range(len(par)):\n",
    "        y+=par[len(par)-i-1]*(x)**i\n",
    "    if s!=0:\n",
    "        y += s * np.random.randn(len(y))\n",
    "    return y"
   ]
  },
  {
   "cell_type": "code",
   "execution_count": 143,
   "metadata": {},
   "outputs": [],
   "source": [
    "def get_points(power=1,count=1,b=None,s=1,noise=False,Clone=True,noise_CountPoints=0,delta_noise=0.,deltaGrafics=1,\n",
    "               randMIN_b=-1900,randMAX_b=1900,randMIN_x=-35,randMAX_x=35,randDelta_x=None,step_x=3.9,\n",
    "               function_CountPoints = None,Show=True):\n",
    "    \n",
    "    if b!=None and (len(b)!=power+1 and power!=1):\n",
    "        raise Exception(\"Too few parametrs 'b=[a,b,c,...]'\")\n",
    "    \n",
    "    if b==None:\n",
    "        l=1\n",
    "        if Clone:\n",
    "            l=count\n",
    "        b = [[np.random.uniform(randMIN_b,randMAX_b) for i in range(power+1)]for i in range(int(count/l))]\n",
    "\n",
    "    if power==1:\n",
    "        power=len(b)-1\n",
    "    #print(b,'*')\n",
    "    if type(b[0])!=list:\n",
    "        b=[[b[0],(b[1]+(i*(count**3)*50*deltaGrafics))] for i in range(count)]\n",
    "    if len(b)<count:\n",
    "        b+=[[b[-1][0],(b[-1][1]+((i+1)*(count**3)*50*(deltaGrafics+1)))] for i in range(count-len(b))]\n",
    "    elif len(b)>count:\n",
    "        raise Exception(\"Too many parametrs 'b=[a,b,c,...]'\")\n",
    "    #print(b,'@')\n",
    "    \n",
    "    if randDelta_x==None:\n",
    "        randDelta_x=(randMAX_x-randMIN_x)/2\n",
    "    Min_x=np.random.uniform(randMIN_x,randMIN_x+randDelta_x)\n",
    "    Max_x=np.random.uniform(randMAX_x-randDelta_x,randMAX_x)\n",
    "        \n",
    "    if function_CountPoints != None:\n",
    "        step_x=((Max_x-Min_x)+1)/function_CountPoints\n",
    "    \n",
    "    X=np.arange(Min_x,Max_x,step_x) \n",
    "    \n",
    "    b=[b[i][:-1]+[b[i][-1]+(i*(count**3)*b[i][0]*50*(deltaGrafics+1))]for i in range(count)]\n",
    "    #print(b,'$')\n",
    "    Ytmp=[[F(X,b[i],s)] for i in range(count)]\n",
    "    Y=[j for i in range(count) for j in Ytmp[i][0].tolist()]\n",
    "    del Ytmp    \n",
    "       \n",
    "    XYp={'x':X.tolist()*count,'y':Y}\n",
    "    if (noise):\n",
    "        XYn=get_noise([min(XYp['x'])-delta_noise,min(XYp['y'])-delta_noise],\n",
    "                      [max(XYp['x'])+delta_noise,max(XYp['y'])+delta_noise],noise_CountPoints)\n",
    "        XYp['x']+=XYn[0]\n",
    "        XYp['y']+=XYn[1]\n",
    "    \n",
    "    if Show:\n",
    "        y_del=0\n",
    "        \n",
    "        if Clone:\n",
    "            b2 = sorted(b,key=lambda a:a[1])[::-1]\n",
    "        else:\n",
    "            b2 = sorted(b,key=lambda a:a[0])[::-1]\n",
    "            \n",
    "        #print(b2)\n",
    "        XYp2=XYp.copy()\n",
    "        for i in b2:  \n",
    "            y=F(max(XYp2['x']),i,0)\n",
    "            plt.text(max(XYp2['x'])+(max(XYp2['x'])-min(XYp2['x']))*0.1,\n",
    "                      max(XYp2['y'])-(max(XYp2['y'])-min(XYp2['y']))*(0.15*y_del),'y=('+str(i[0])+')x+('+str(i[1])+')')\n",
    "            y_del+=1\n",
    "    \n",
    "    \n",
    "    return XYp"
   ]
  },
  {
   "cell_type": "code",
   "execution_count": 144,
   "metadata": {},
   "outputs": [],
   "source": [
    "def find_function(XYp,t=None,k=None):\n",
    "    XYp_tmp={'x':XYp['x'].copy(),'y':XYp['y'].copy()}\n",
    "    inline_size=0.\n",
    "    inline_size_tmp=0.\n",
    "    ab=[]\n",
    "    k=len(XYp['x'])*2\n",
    "    t_isNot_define=False\n",
    "    percent_t=0.008\n",
    "    increasing_t=0.002\n",
    "    percent=0.75\n",
    "    increasing_percent=0.02\n",
    "    \n",
    "    if t==None:\n",
    "        t_isNot_define=True\n",
    "        KOEF_t=max((max(XYp['x'])-min(XYp['x'])),(max(XYp['y'])-min(XYp['y'])))\n",
    "        #print('KOEF=',KOEF_t,' x=',(max(XYp['x'])-min(XYp['x'])),' y=',(max(XYp['y'])-min(XYp['y'])))\n",
    "    \n",
    "    while True: \n",
    "        inline_size_tmp=0.\n",
    "        if t_isNot_define:\n",
    "            t=int(KOEF_t*percent_t)\n",
    "        else:\n",
    "            t+=t*percent_t\n",
    "            \n",
    "        RANS = print_RANSAC([XYp_tmp['x'],XYp_tmp['y']],t,k)\n",
    "        a=RANS[0][0]\n",
    "        b=RANS[0][1]\n",
    "        ab=ab+[[a,b]]\n",
    "        inline_size_tmp=RANS[2]\n",
    "        \n",
    "        if inline_size_tmp>inline_size: \n",
    "            tmp_mul=(inline_size_tmp-inline_size)\n",
    "            if tmp_mul>5 and tmp_mul<=30:\n",
    "                tmp_mul-=(tmp_mul*0.13)**2\n",
    "            elif tmp_mul>30:\n",
    "                tmp_mul=15                \n",
    "            if inline_size==0:\n",
    "                tmp_mul=1\n",
    "                \n",
    "            percent-=increasing_percent*1.5*tmp_mul\n",
    "            inline_size=inline_size_tmp\n",
    "        \n",
    "        i=0\n",
    "        while True:\n",
    "            x = XYp_tmp['x'][i]\n",
    "            y = XYp_tmp['y'][i]\n",
    "            \n",
    "            y1 = a*x+(b-t)\n",
    "            y2 = a*x+(b+t)\n",
    "            \n",
    "            if (y1>y2):\n",
    "                y1,y2 = y2,y1\n",
    "            \n",
    "            if (y1<y and y<y2):\n",
    "                del XYp_tmp['x'][i]\n",
    "                del XYp_tmp['y'][i]\n",
    "                i-=1\n",
    "            i+=1\n",
    "            if i>=len(XYp_tmp['x'])-1:\n",
    "                break    \n",
    "        \n",
    "        if inline_size_tmp<inline_size*percent:\n",
    "            del ab[-1]\n",
    "            break            \n",
    "        \n",
    "        \n",
    "        if percent < 0.9:\n",
    "            percent+=increasing_percent\n",
    "            increasing_percent-=increasing_percent*0.2\n",
    "        if percent > 0.9: \n",
    "            percent=0.9\n",
    "            \n",
    "        if percent_t < 0.2:\n",
    "            percent_t+=increasing_t\n",
    "            increasing_t-=increasing_t*0.2\n",
    "        if percent_t > 0.2: \n",
    "            percent_t=0.2\n",
    "    return ab,t"
   ]
  },
  {
   "cell_type": "code",
   "execution_count": 145,
   "metadata": {},
   "outputs": [],
   "source": [
    "def print_line_ab(points,ab,t):\n",
    "    colors=[1,'black','green','yellow','blue','pink']\n",
    "    plt.plot(points['x'],points['y'],'rx')\n",
    "    y_del=0\n",
    "    a=[i[0] for i in ab]\n",
    "    if ((a[0]-15)<(sum(a)/len(a)) and (sum(a)/len(a))<(a[0]+15)):\n",
    "        ab = sorted(ab,key=lambda a1:a1[1])[::-1]\n",
    "    else:\n",
    "        ab = sorted(ab,key=lambda a1:a1[0])[::-1]\n",
    "    \n",
    "    for i in ab:\n",
    "        XY=get_points(b=i,randMIN_x=min(points['x']),randMAX_x=max(points['x']),randDelta_x=5,Show=False)\n",
    "        Y1=[i-t for i in XY['y']]\n",
    "        Y2=[i+t for i in XY['y']]\n",
    "        plt.plot(XY['x'],XY['y'],'b')\n",
    "        plt.plot(XY['x'],Y1,color='green',linestyle = ':')\n",
    "        plt.plot(XY['x'],Y2,color='green',linestyle = ':')\n",
    "        \n",
    "        plt.annotate('y=('+str(i[0])+')x+('+str(i[1])+')', xy=(XY['x'][-1], XY['y'][-1]),\n",
    "                     xytext=(max(points['x'])+(max(points['x'])-min(points['x']))*0.1,\n",
    "                             max(points['y'])-(max(points['y'])-min(points['y']))*(0.15*y_del)),\n",
    "                     arrowprops=dict(facecolor=colors[colors[0]]))\n",
    "        y_del+=1\n",
    "        colors[0]+=1\n",
    "        if colors[0]==6:\n",
    "            colors[0]=1"
   ]
  },
  {
   "cell_type": "code",
   "execution_count": 150,
   "metadata": {},
   "outputs": [
    {
     "data": {
      "text/plain": [
       "[<matplotlib.lines.Line2D at 0x7f0077eeceb8>]"
      ]
     },
     "execution_count": 150,
     "metadata": {},
     "output_type": "execute_result"
    },
    {
     "data": {
      "image/png": "[encoded data removed]",
      "text/plain": [
       "<Figure size 432x288 with 1 Axes>"
      ]
     },
     "metadata": {
      "needs_background": "light"
     },
     "output_type": "display_data"
    }
   ],
   "source": [
    "a=2080\n",
    "b=1\n",
    "c=3\n",
    "points=get_points(s=1,randDelta_x=5,count=2,power=1,randMIN_x=-250,randMAX_x=250,\n",
    "           function_CountPoints =25,deltaGrafics=0,noise=True,Clone=False,noise_CountPoints=50,delta_noise=0)\n",
    "plt.plot(points['x'],points['y'],'rx')"
   ]
  },
  {
   "cell_type": "code",
   "execution_count": 151,
   "metadata": {},
   "outputs": [
    {
     "data": {
      "image/png": "[encoded data removed]",
      "text/plain": [
       "<Figure size 432x288 with 1 Axes>"
      ]
     },
     "metadata": {
      "needs_background": "light"
     },
     "output_type": "display_data"
    }
   ],
   "source": [
    "k=0\n",
    "ab,t = find_function(points)\n",
    "print_line_ab(points,ab,t)"
   ]
  },
  {
   "cell_type": "code",
   "execution_count": null,
   "metadata": {},
   "outputs": [],
   "source": []
  },
  {
   "cell_type": "code",
   "execution_count": null,
   "metadata": {},
   "outputs": [],
   "source": []
  }
 ],
 "metadata": {
  "kernelspec": {
   "display_name": "Python 3",
   "language": "python",
   "name": "python3"
  },
  "language_info": {
   "codemirror_mode": {
    "name": "ipython",
    "version": 3
   },
   "file_extension": ".py",
   "mimetype": "text/x-python",
   "name": "python",
   "nbconvert_exporter": "python",
   "pygments_lexer": "ipython3",
   "version": "3.7.3"
  }
 },
 "nbformat": 4,
 "nbformat_minor": 2
}
