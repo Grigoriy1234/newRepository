{
 "cells": [
  {
   "cell_type": "code",
   "execution_count": 3,
   "metadata": {},
   "outputs": [],
   "source": [
    "import numpy as np\n",
    "import pandas as pd\n",
    "import matplotlib.pyplot as plt\n",
    "import random as rd"
   ]
  },
  {
   "cell_type": "code",
   "execution_count": 38,
   "metadata": {},
   "outputs": [],
   "source": [
    "def line(x, a, b, s):\n",
    "    \"\"\"\n",
    "    :param x: vector of x values, np.arange(-10, 10, 0.1)\n",
    "    :param a: a parameter of the line\n",
    "    :param b: b parameter of the line\n",
    "    :param s: sigma parameret of the noise (with normal distribution)\n",
    "    \"\"\"\n",
    "    y = a*x + b\n",
    "    y += s * np.random.randn(len(y))\n",
    "    \n",
    "    return [[x],[y]]"
   ]
  },
  {
   "cell_type": "code",
   "execution_count": 39,
   "metadata": {},
   "outputs": [],
   "source": [
    "def noise(MinXY,MaxXY,size_points):\n",
    "    return [[rd.uniform(MinXY[0],MaxXY[0]) for i in range(size_points)],[rd.uniform(MinXY[1],MaxXY[1]) for i in range(size_points)]]"
   ]
  },
  {
   "cell_type": "code",
   "execution_count": 45,
   "metadata": {},
   "outputs": [
    {
     "data": {
      "text/plain": [
       "[<matplotlib.lines.Line2D at 0x7f9ad399fc50>,\n",
       " <matplotlib.lines.Line2D at 0x7f9ad39d5710>,\n",
       " <matplotlib.lines.Line2D at 0x7f9ad39d5860>,\n",
       " <matplotlib.lines.Line2D at 0x7f9ad39d59b0>,\n",
       " <matplotlib.lines.Line2D at 0x7f9ad39d5b00>,\n",
       " <matplotlib.lines.Line2D at 0x7f9ad39d5c50>,\n",
       " <matplotlib.lines.Line2D at 0x7f9ad39d5da0>,\n",
       " <matplotlib.lines.Line2D at 0x7f9ad39d5ef0>,\n",
       " <matplotlib.lines.Line2D at 0x7f9ad39dc080>,\n",
       " <matplotlib.lines.Line2D at 0x7f9ad39dc1d0>,\n",
       " <matplotlib.lines.Line2D at 0x7f9ad39dc320>,\n",
       " <matplotlib.lines.Line2D at 0x7f9ad39dc470>,\n",
       " <matplotlib.lines.Line2D at 0x7f9ad39dc5c0>,\n",
       " <matplotlib.lines.Line2D at 0x7f9ad39dc710>,\n",
       " <matplotlib.lines.Line2D at 0x7f9ad39dc860>,\n",
       " <matplotlib.lines.Line2D at 0x7f9ad39dc9b0>,\n",
       " <matplotlib.lines.Line2D at 0x7f9ad39dcb00>,\n",
       " <matplotlib.lines.Line2D at 0x7f9ad39dcc50>,\n",
       " <matplotlib.lines.Line2D at 0x7f9ad39dcda0>,\n",
       " <matplotlib.lines.Line2D at 0x7f9ad39dcef0>,\n",
       " <matplotlib.lines.Line2D at 0x7f9ad3962080>,\n",
       " <matplotlib.lines.Line2D at 0x7f9ad39621d0>,\n",
       " <matplotlib.lines.Line2D at 0x7f9ad3962320>,\n",
       " <matplotlib.lines.Line2D at 0x7f9ad3962470>,\n",
       " <matplotlib.lines.Line2D at 0x7f9ad39625c0>,\n",
       " <matplotlib.lines.Line2D at 0x7f9ad3962710>]"
      ]
     },
     "execution_count": 45,
     "metadata": {},
     "output_type": "execute_result"
    },
    {
     "data": {
      "image/png": "[encoded data removed]",
      "text/plain": [
       "<Figure size 432x288 with 1 Axes>"
      ]
     },
     "metadata": {
      "needs_background": "light"
     },
     "output_type": "display_data"
    }
   ],
   "source": [
    "points_line = line(np.arange(1,250,9.9),2,2,15)\n",
    "points_noise = noise([1,1],[500,500],50)\n",
    "\n",
    "plt.plot(points_noise[0],points_noise[1],'ro')\n",
    "plt.plot(points_line[0],points_line[1],'ro')"
   ]
  },
  {
   "cell_type": "code",
   "execution_count": null,
   "metadata": {},
   "outputs": [],
   "source": []
  },
  {
   "cell_type": "code",
   "execution_count": null,
   "metadata": {},
   "outputs": [],
   "source": []
  },
  {
   "cell_type": "code",
   "execution_count": null,
   "metadata": {},
   "outputs": [],
   "source": []
  }
 ],
 "metadata": {
  "kernelspec": {
   "display_name": "Python 3",
   "language": "python",
   "name": "python3"
  },
  "language_info": {
   "codemirror_mode": {
    "name": "ipython",
    "version": 3
   },
   "file_extension": ".py",
   "mimetype": "text/x-python",
   "name": "python",
   "nbconvert_exporter": "python",
   "pygments_lexer": "ipython3",
   "version": "3.7.3"
  }
 },
 "nbformat": 4,
 "nbformat_minor": 2
}
