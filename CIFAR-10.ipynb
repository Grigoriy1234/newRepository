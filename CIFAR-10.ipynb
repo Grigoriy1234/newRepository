{
 "cells": [
  {
   "cell_type": "code",
   "execution_count": 1,
   "metadata": {},
   "outputs": [],
   "source": [
    "import numpy as np\n",
    "import pandas as pd\n",
    "import sklearn as sl"
   ]
  },
  {
   "cell_type": "code",
   "execution_count": 2,
   "metadata": {},
   "outputs": [],
   "source": [
    "def unpickle(file):\n",
    "    import pickle\n",
    "    with open(file, 'rb') as fo:\n",
    "        dict = pickle.load(fo, encoding='bytes')\n",
    "    return dict"
   ]
  },
  {
   "cell_type": "code",
   "execution_count": 3,
   "metadata": {},
   "outputs": [],
   "source": [
    "def Split_dataset(file,percent):\n",
    "    name=[i for i in range(len(file[0]))]\n",
    "    test_data=pd.DataFrame(columns=name)\n",
    "    train_data=pd.DataFrame(columns=name)\n",
    "    df = pd.DataFrame(file)\n",
    "    print(len(df))\n",
    "    for i in range(len(df)):                   \n",
    "        if np.random.rand()<percent:\n",
    "            test_data.loc[len(test_data)]=list(df.loc[i])\n",
    "        else:\n",
    "            train_data.loc[len(train_data)]=list(df.loc[i])\n",
    "        if i%300==0:\n",
    "            print(round((i/len(df))*100),'%',end=\"|\")\n",
    "    print('100 %')\n",
    "\n",
    "    return test_data,train_data"
   ]
  },
  {
   "cell_type": "code",
   "execution_count": 4,
   "metadata": {},
   "outputs": [],
   "source": [
    "def Similarity(data_instances1,data_instances2,l=4):#Euclidean metric\n",
    "    return np.sqrt(sum([(data_instances1[i]-data_instances2[i])**2 for i in range(l)]))"
   ]
  },
  {
   "cell_type": "code",
   "execution_count": 5,
   "metadata": {},
   "outputs": [],
   "source": [
    "def get_kNeighbors(train_data,data_instances,k,radius=False):\n",
    "    Neighbors = [[Similarity(data_instances,train_data.loc[i].tolist()),train_data.loc[i].tolist()]for i in range(len(train_data))]\n",
    "    Neighbors=sorted(Neighbors,key=lambda x:x[0])\n",
    "    \n",
    "    if radius:\n",
    "        l=0\n",
    "        for i in Neighbors:\n",
    "            #print('%%',i[0],' ',k,'%%')\n",
    "            if i[0]<k:\n",
    "                l+=1\n",
    "            else:\n",
    "                if l==0:\n",
    "                    l=1\n",
    "                break\n",
    "        return Neighbors[:l]\n",
    "    else:\n",
    "        return Neighbors[:k]"
   ]
  },
  {
   "cell_type": "code",
   "execution_count": 6,
   "metadata": {},
   "outputs": [],
   "source": [
    "def get_Response(Neighbors):\n",
    "    Iris_type = {}\n",
    "    for j in Neighbors:\n",
    "        if j[1][-1] not in Iris_type:\n",
    "            Iris_type[j[1][-1]]=1\n",
    "        else:\n",
    "            Iris_type[j[1][-1]]+=1\n",
    "    prediction=[0,'']\n",
    "    for j in Iris_type.keys():\n",
    "        if Iris_type[j]>prediction[0]:\n",
    "            prediction[0]=Iris_type[j]\n",
    "            prediction[1]=j\n",
    "    return prediction[-1]"
   ]
  },
  {
   "cell_type": "code",
   "execution_count": 7,
   "metadata": {},
   "outputs": [],
   "source": [
    "def get_accuracy(train_data,test_data,k_Neighbors,radius=False):\n",
    "    success=0\n",
    "    for i in range(len(test_data)):\n",
    "        test=test_data.loc[i].tolist()\n",
    "        print('\\n\\nПроверка: ',test[-5:])\n",
    "        Neighbors = get_kNeighbors(train_data,test,k_Neighbors,radius=radius)\n",
    "        print('\\nБлижайшние данные к проверяемым:\\n',[i[1][-1] for i in Neighbors])\n",
    "        prediction = get_Response(Neighbors)\n",
    "        print('Предсказание:\\n',prediction)\n",
    "        if test[-1]==prediction:\n",
    "            success+=1\n",
    "            print('\\nПредсказание верное\\n\\n\\n')\n",
    "        print(\"Выполнено:\",i/len(test_data),'%', 'Успешно:',success)\n",
    "    return (success/len(test_data))"
   ]
  },
  {
   "cell_type": "code",
   "execution_count": 8,
   "metadata": {},
   "outputs": [],
   "source": [
    "def get_data(path,files):\n",
    "    C_10=[0,0]\n",
    "    for i in range(len(files)):\n",
    "        print('Loading:',path+files[i])\n",
    "        tmp_file=unpickle(path+files[i])  \n",
    "        if i==0:\n",
    "            C_10[1]=tmp_file[b'labels']\n",
    "            C_10[0]=tmp_file[b'data'].tolist()\n",
    "        else:\n",
    "            C_10[1]+=tmp_file[b'labels']\n",
    "            C_10[0]+=tmp_file[b'data'].tolist()\n",
    "#         print(len(C_10[0])) \n",
    "#         print(len(C_10[1]))  \n",
    "#         print(len(C_10),'\\n')\n",
    "    \n",
    "    for i in range(len(C_10[0])):\n",
    "        C_10[0][i]+=[C_10[1][i]]\n",
    "        if i%10000==0:\n",
    "            print(round((i/len(C_10[0]))*100),'%')\n",
    "    print('100 %')\n",
    "    return C_10[0]"
   ]
  },
  {
   "cell_type": "code",
   "execution_count": null,
   "metadata": {},
   "outputs": [
    {
     "name": "stdout",
     "output_type": "stream",
     "text": [
      "Loading: cifar-10-python/cifar-10-batches-py/data_batch_1\n",
      "Loading: cifar-10-python/cifar-10-batches-py/data_batch_2\n",
      "Loading: cifar-10-python/cifar-10-batches-py/data_batch_3\n",
      "Loading: cifar-10-python/cifar-10-batches-py/data_batch_4\n",
      "Loading: cifar-10-python/cifar-10-batches-py/data_batch_5\n",
      "0 %\n",
      "20 %\n",
      "40 %\n",
      "60 %\n",
      "80 %\n",
      "100 %\n",
      "Loading: cifar-10-python/cifar-10-batches-py/test_batch\n",
      "0 %\n",
      "100 %\n"
     ]
    }
   ],
   "source": [
    "path='cifar-10-python/cifar-10-batches-py/'\n",
    "files_train=['data_batch_1','data_batch_2','data_batch_3','data_batch_4','data_batch_5']#\n",
    "files_test=['test_batch']\n",
    "C_10_train=get_data(path,files_train)\n",
    "C_10_test=get_data(path,files_test)"
   ]
  },
  {
   "cell_type": "code",
   "execution_count": null,
   "metadata": {},
   "outputs": [
    {
     "name": "stdout",
     "output_type": "stream",
     "text": [
      "3073\n"
     ]
    }
   ],
   "source": [
    "print(len(C_10_train[0]))"
   ]
  },
  {
   "cell_type": "code",
   "execution_count": null,
   "metadata": {},
   "outputs": [],
   "source": [
    "# border = 10000\n",
    "# test_data_size=2000\n",
    "# percent=test_data_size/float(border)\n",
    "test_data=pd.DataFrame(C_10_test[:2500])\n",
    "train_data=pd.DataFrame(C_10_train)\n",
    "# test_data,train_data=Split_dataset(C_10_test,1)\n",
    "# test_data,train_data=Split_dataset(C_10_train,0)"
   ]
  },
  {
   "cell_type": "code",
   "execution_count": null,
   "metadata": {},
   "outputs": [
    {
     "name": "stdout",
     "output_type": "stream",
     "text": [
      "2500\n",
      "50000\n",
      "52500\n"
     ]
    }
   ],
   "source": [
    "print(len(test_data))#\n",
    "print(len(train_data))#\n",
    "print(len(train_data)+len(test_data))#"
   ]
  },
  {
   "cell_type": "code",
   "execution_count": null,
   "metadata": {},
   "outputs": [
    {
     "name": "stdout",
     "output_type": "stream",
     "text": [
      "\n",
      "\n",
      "Проверка:  [145, 124, 129, 110, 3]\n",
      "\n",
      "Ближайшние данные к проверяемым:\n",
      " [6, 7, 0, 9, 8, 2, 8, 2, 9, 0, 8, 7, 1, 4, 0, 9, 8, 2, 2, 6, 2, 5, 8, 8, 5, 0, 0, 7, 5, 9, 3, 4, 7, 0, 9, 9, 3, 0, 9, 8, 0, 2, 0, 7, 3, 5, 3, 0, 8, 9, 0, 9, 2, 8, 4, 8, 9, 6, 3, 4, 9, 3, 0, 2, 3, 8, 8, 0, 1, 8, 8, 8, 3, 9, 2, 0, 2, 1, 3, 2, 8, 8, 4, 2, 8, 8, 7, 3, 9, 3, 0, 4, 3, 0, 0, 4, 4, 8, 5, 9, 8, 0, 8, 6, 5, 0, 5, 3, 7, 2, 3, 9, 0, 3, 0, 5, 1, 8, 8, 4, 2, 4, 3, 9, 7, 8, 3, 2, 1, 2, 0, 8, 0, 2, 0, 4, 1, 3, 5, 5, 5, 0, 8, 4, 4, 7, 7, 2, 1, 9, 0, 9, 5, 1, 8, 6, 8, 3, 4, 4, 0, 5, 9, 3, 9, 4, 3, 8, 7, 1, 6, 1, 4, 5, 0, 0, 0, 3, 4, 2, 6, 0, 8, 2, 8, 9, 2, 0, 2, 0, 0, 4, 8, 1, 0, 5, 1, 3, 7, 7, 3, 0, 6, 5, 0, 7, 2, 0, 9, 7, 2, 4, 4, 2, 8, 0, 3, 0, 5, 8, 5, 4, 0, 3, 7, 8, 9, 4, 5, 1, 3, 2, 2, 0, 2, 8, 8, 5, 4, 8, 7, 5, 8, 5, 3, 8, 7, 2, 5, 0, 0, 4, 0, 8, 2, 1, 9, 4, 1, 5, 4, 0, 7, 4, 2, 8, 8, 7, 2, 9, 9, 2, 1, 3, 0, 7, 2, 8, 8, 3, 2, 7, 2, 1, 7, 8, 8, 0, 9, 0, 2, 2, 7, 4, 2, 2, 7, 0, 2, 7, 8, 9, 0, 0, 8, 3, 5, 8, 8, 5, 7, 5, 7, 3, 3, 4, 3, 5, 6, 2, 6, 3, 0, 3, 0, 2, 4, 8, 2, 8, 8, 0, 5, 7, 7, 2, 8, 9, 4, 3, 6, 0, 4, 5, 2, 8, 0, 3, 7, 5, 4, 2, 8, 7, 5, 0, 0, 9, 1, 3, 0, 6, 4, 0, 0, 8, 7, 5, 5, 6, 3, 0, 2, 3, 3, 4, 9, 3, 6, 9, 0, 9, 8, 9, 5, 8, 0, 8, 1, 8, 0, 6, 7, 4, 8, 7, 9, 5, 8, 3, 0, 2, 9, 8, 8, 9, 2, 2, 0, 3, 2, 5, 8, 8, 1, 8, 8, 5, 2, 8, 8, 7, 0, 2, 4, 9, 0, 2, 7, 9, 8, 1, 3, 9, 1, 5, 8, 4, 2, 9, 4, 3, 2, 8, 3, 6, 4, 1, 2, 5, 0, 8, 6, 7, 9, 2, 6, 8, 8, 2, 0, 0, 2, 0, 2, 2, 7, 0, 2, 2, 0, 7, 8, 2, 8, 9, 2, 5, 8, 3, 6, 2, 2, 1, 8, 5, 2, 3, 1, 2, 0, 6, 0, 0, 7, 0, 3, 6, 4, 1, 7, 9, 8, 8, 0, 8, 8, 2, 8, 1, 4, 0, 0, 2, 0, 4, 0, 8, 7, 0, 0, 8, 6, 9, 9, 0, 0, 8, 3, 2, 6, 2, 0, 0, 1, 2, 2, 2, 8, 4, 8, 0, 7, 0, 8, 1, 2, 9, 0, 4, 5, 6, 8, 0, 1, 8, 5, 0, 9, 8, 3, 3, 6, 5, 9, 8, 5, 5, 2, 9, 6, 7, 0, 0, 5, 4, 4, 9, 3, 5, 1, 3, 6, 1, 4, 6, 1, 3, 4, 4, 8, 5, 4, 7, 4, 7, 9, 5, 8, 9, 0, 2, 9, 8, 9, 9, 2, 0, 9, 6, 8, 4, 7, 0, 1, 3, 0, 9, 0, 0, 2, 8, 7, 6, 4, 6, 0, 8, 0, 7, 7, 2, 6, 7, 0, 8, 0, 0, 4, 1, 0, 6, 7, 6, 3, 0, 0, 8, 7, 7, 8, 7, 8, 8, 8, 7, 2, 7, 1, 8, 3, 6, 0, 3, 8, 2, 5, 1, 5, 8, 8, 5, 5, 8, 3, 0, 8, 0, 9, 4, 0, 2, 2, 3, 3, 3, 2, 0, 3, 9, 2, 2, 5, 3, 2, 8, 8, 9, 8, 7, 8, 6, 2, 8, 8, 7, 0, 4, 7, 0, 6, 6, 3, 8, 8, 8, 8, 6, 5, 8, 1, 9, 2, 0, 8, 8, 8, 8, 8, 6, 2, 9, 5, 0, 0, 7, 5, 4, 2, 1, 0, 6, 4, 6, 9, 9, 4, 8, 2, 8, 8, 2, 2, 0, 3, 2, 3, 4, 2, 8, 7, 8, 3, 7, 1, 5, 8, 3, 7, 3, 2, 2, 0, 2, 3, 2, 8, 7, 8, 0, 0, 6, 1, 8, 4, 3, 1, 2, 7, 0, 6, 0, 5, 5, 8, 8, 2, 1, 8, 8, 8, 2, 2, 0, 2, 2, 3, 4, 8, 0, 0, 5, 3, 8, 2, 7, 0, 8, 0, 0, 3, 5, 0, 8, 8, 0, 0, 2, 0, 7, 8, 3, 8, 3, 5, 8, 2, 2, 0, 0, 0, 3, 6, 0, 1, 8, 7, 0, 8, 2, 0, 0, 8, 8, 8, 0, 7, 6, 3, 2, 8, 8, 3, 0, 8, 6, 6, 5, 2, 2, 0, 0, 0, 0, 6, 9, 6, 5, 1, 1, 2, 4, 3, 3, 5, 3, 3, 4, 7, 9, 1, 5, 9, 8, 5, 2, 8, 8, 1, 0, 9, 0, 1, 7, 2, 8, 0, 3, 2, 6, 8, 0, 0, 5, 1, 0, 1, 4, 6, 8, 0, 9, 6, 2, 3, 4, 7, 1, 0, 4, 5, 8, 8, 4, 3, 3, 8, 0, 2, 6, 0, 8, 9, 0, 8, 8, 8, 8, 8, 3, 8, 6, 6, 2, 8, 9, 2, 6, 6, 9, 9, 3, 4, 7, 2, 9, 7, 5, 8, 8, 0, 0, 5, 2, 8, 0, 4, 8, 0, 4, 8, 9, 9, 7, 8, 8, 0, 6, 6, 2, 7, 0, 3, 8, 4, 1, 1, 3, 0, 5, 7, 3, 6, 8, 8, 7, 9, 9, 3, 0, 6, 4, 8, 0, 0, 8, 8, 5, 5, 4, 9, 0, 8, 8, 9, 8, 2, 5, 1, 1, 8, 6, 9, 5, 0, 0, 1, 9, 2, 7, 8, 3, 2, 1, 5, 8, 0, 3, 5, 8, 9, 2, 0, 8, 4, 8, 9, 5, 6, 0, 6, 0, 9, 7, 0, 1, 8, 5, 2, 2, 1, 7, 9, 3, 8, 4, 6, 2, 3, 0, 7, 8, 9, 2, 8, 8, 6, 3, 5, 7, 8, 4, 7, 1, 7, 4, 9, 8, 1, 8, 8, 5, 4, 7, 5, 1, 3, 2, 7, 5, 6, 2, 1, 0, 0, 9, 0, 9, 0, 8, 3, 2, 8, 7, 9, 0, 7, 8, 1, 0, 9, 8, 8, 3, 4, 1, 2, 1, 8, 0, 7, 0, 8, 8, 5, 3, 6, 8, 7, 9, 4, 8, 6, 3, 4, 4, 8, 2, 9, 3, 2, 2, 6, 3, 8, 1, 5, 0, 8, 4, 0, 0, 0, 6, 8, 7, 0, 8, 6, 0, 5, 7, 0, 6, 2, 9, 1, 5, 7, 2, 0, 2, 2, 8, 7, 0, 8, 8, 7, 0, 9, 0, 0, 2, 3, 1, 8, 0, 0, 0, 2, 4, 4, 5, 9, 2, 4, 8, 1, 0, 6, 2, 6, 8, 0, 1, 8, 7, 0, 4, 5, 8, 6, 7, 5, 6, 6, 5, 3, 8, 0, 1, 9, 2, 4, 9, 2, 8, 5, 3, 9, 1, 8, 2, 9, 7, 6, 8, 8, 0, 6, 5, 4, 5, 2, 8, 7, 8, 5, 2, 9, 5, 5, 4, 4, 3, 7, 0, 0, 7, 7, 0, 0, 8, 8, 1, 4, 2, 1, 9, 2, 5, 0, 6, 0, 9, 0, 8, 1, 5, 8, 2, 6, 3, 2, 9, 5, 6, 5, 2, 9, 3, 9, 0, 0, 8, 0, 4, 0, 7, 4, 4, 0, 0, 0, 2, 2, 0, 9, 9, 8, 4, 9, 8, 0, 2, 0, 9, 0, 1, 0, 8, 2, 4, 3, 2, 2, 3, 7, 8, 1, 8, 7, 7, 1, 8, 0, 3, 3, 2, 8, 8, 6, 5, 3, 1, 5, 2, 8, 4, 7, 4, 4, 5, 6, 0, 5, 4, 8, 0, 5, 3, 3, 7, 5, 5, 7, 0, 7, 6, 1, 5, 6, 0, 0, 8, 0, 4, 2, 2, 2, 0, 7, 3, 0, 8, 1, 8, 4, 0, 7, 8, 0, 3, 0, 5, 5, 3, 2, 4, 9, 1, 5, 2, 5, 8, 8, 5, 5, 9, 0, 7, 4, 7, 8, 0, 6, 2, 7, 2, 2, 8, 2, 3, 7, 3, 1, 2, 5, 9, 5, 8, 6, 2, 8, 8, 1, 2, 8, 8, 1, 0, 2, 0, 7, 9, 8, 1, 7, 4, 4, 8, 9, 6, 7, 8, 3, 3, 1, 2, 2, 1, 8, 4, 0, 3, 7, 9, 2, 1, 3, 4, 4, 6, 5, 0, 8, 3, 0, 4, 8, 8, 6, 5, 7, 7, 2, 7, 3, 7, 9, 9, 5, 7, 9, 9, 3, 0, 0, 0, 8, 5, 9]\n",
      "Предсказание:\n",
      " 8\n",
      "Выполнено: 0.0 % Успешно: 0\n",
      "\n",
      "\n",
      "Проверка:  [163, 178, 191, 199, 8]\n"
     ]
    }
   ],
   "source": [
    "k_Neighbors=20\n",
    "rk_Neighbors=15\n",
    "get_accuracy(train_data,test_data,rk_Neighbors,radius=True)"
   ]
  },
  {
   "cell_type": "code",
   "execution_count": null,
   "metadata": {},
   "outputs": [],
   "source": []
  },
  {
   "cell_type": "code",
   "execution_count": null,
   "metadata": {},
   "outputs": [],
   "source": []
  }
 ],
 "metadata": {
  "kernelspec": {
   "display_name": "Python 3",
   "language": "python",
   "name": "python3"
  },
  "language_info": {
   "codemirror_mode": {
    "name": "ipython",
    "version": 3
   },
   "file_extension": ".py",
   "mimetype": "text/x-python",
   "name": "python",
   "nbconvert_exporter": "python",
   "pygments_lexer": "ipython3",
   "version": "3.7.3"
  }
 },
 "nbformat": 4,
 "nbformat_minor": 2
}
