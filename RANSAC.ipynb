{
 "cells": [
  {
   "cell_type": "code",
   "execution_count": 3,
   "metadata": {},
   "outputs": [],
   "source": [
    "import numpy as np\n",
    "import pandas as pd\n",
    "import matplotlib.pyplot as plt\n",
    "import random as rd"
   ]
  },
  {
   "cell_type": "code",
   "execution_count": 2,
   "metadata": {},
   "outputs": [],
   "source": [
    "def line(x, a, b, s):\n",
    "    \"\"\"\n",
    "    :param x: vector of x values, np.arange(-10, 10, 0.1)\n",
    "    :param a: a parameter of the line\n",
    "    :param b: b parameter of the line\n",
    "    :param s: sigma parameret of the noise (with normal distribution)\n",
    "    \"\"\"\n",
    "    y = a*x + b\n",
    "    y += s * np.random.randn(len(y))\n",
    "    \n",
    "    return y"
   ]
  },
  {
   "cell_type": "code",
   "execution_count": 11,
   "metadata": {},
   "outputs": [
    {
     "name": "stdout",
     "output_type": "stream",
     "text": [
      "13.040847465033199\n",
      "3.553078784661122\n",
      "3.1888712417742693\n",
      "196.7963687888136\n"
     ]
    }
   ],
   "source": [
    "def noise(MinXY,MaxXY,size_points):\n",
    "    print(rd.uniform(1,20))\n",
    "noise(1,2,3)"
   ]
  },
  {
   "cell_type": "code",
   "execution_count": null,
   "metadata": {},
   "outputs": [],
   "source": []
  }
 ],
 "metadata": {
  "kernelspec": {
   "display_name": "Python 3",
   "language": "python",
   "name": "python3"
  },
  "language_info": {
   "codemirror_mode": {
    "name": "ipython",
    "version": 3
   },
   "file_extension": ".py",
   "mimetype": "text/x-python",
   "name": "python",
   "nbconvert_exporter": "python",
   "pygments_lexer": "ipython3",
   "version": "3.7.3"
  }
 },
 "nbformat": 4,
 "nbformat_minor": 2
}
