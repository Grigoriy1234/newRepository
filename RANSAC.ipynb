{
 "cells": [
  {
   "cell_type": "code",
   "execution_count": 110,
   "metadata": {},
   "outputs": [],
   "source": [
    "import numpy as np\n",
    "import pandas as pd\n",
    "import matplotlib.pyplot as plt\n",
    "import random as rd\n",
    "#np.seterr(divide='ignore', invalid='ignore')"
   ]
  },
  {
   "cell_type": "code",
   "execution_count": 148,
   "metadata": {},
   "outputs": [],
   "source": [
    "def print_line_2points(points):#from line-task 1\n",
    "    XYarr= points.copy()\n",
    "    n = len(XYarr)\n",
    "    \n",
    "    XYp = {'x':[i[0] for i in XYarr],'y':[i[1] for i in XYarr]}\n",
    "    sumX = sum(XYp['x'])\n",
    "    sumY = sum(XYp['y'])\n",
    "    sumXY = 0.\n",
    "    sumXqrt = 0.\n",
    "    \n",
    "    for i in XYarr:\n",
    "        sumXY += i[0]*i[1]    \n",
    "        sumXqrt += i[0]**2\n",
    "    \n",
    "    \n",
    "    if n*sumXqrt - sumX**2 != 0:\n",
    "        a = (n*sumXY - sumX*sumY)/(n*sumXqrt - sumX**2)\n",
    "        b = (sumY - a*sumX)/n\n",
    "        return a,b\n",
    "    else:\n",
    "        return 0.,0."
   ]
  },
  {
   "cell_type": "code",
   "execution_count": 165,
   "metadata": {},
   "outputs": [],
   "source": [
    "def print_line(XYp):#from line-task 2\n",
    "    n = len(XYp['x'])\n",
    "    \n",
    "    sumX = sum(XYp['x'])\n",
    "    sumY = sum(XYp['y'])\n",
    "    sumXY = 0.\n",
    "    sumXqrt = 0.\n",
    "    sum_Xqrt_Y = 0.\n",
    "    sumXqrt3 = 0.\n",
    "    sumXqrt4 = 0.\n",
    "    \n",
    "    for i in range(len(XYp['y'])):\n",
    "        sumXY += XYp['x'][i]*XYp['y'][i]\n",
    "        sumXqrt += XYp['x'][i]**2\n",
    "    \n",
    "    a = (n*sumXY - sumX*sumY)/(n*sumXqrt - sumX**2)\n",
    "    b = (sumY - a*sumX)/n\n",
    "    XYl1 = {'x':[min(XYp['x'])-3,max(XYp['x'])+3]}\n",
    "    XYl1['y'] = [a*i+b for i in XYl1['x']]\n",
    "    XYl2 = {'x':XYp['x'].copy()}\n",
    "    XYl2['y'] = [(((i+1)**(1./3))+1) for i in XYl2['x']]\n",
    "    \n",
    "    otkl1 = 0.\n",
    "    for i in range(n):\n",
    "        otkl1 += ((XYp['y'][i]-((a*XYp['x'][i])+b))**2)\n",
    "\n",
    "    otkl2 = 0.    \n",
    "    for i in range(n):\n",
    "        otkl2 += ((XYp['y'][i]-((XYp['x'][i]+1)**(1./3)+1))**2)\n",
    "    \n",
    "    plt.plot(XYp['x'],XYp['y'],'ro')\n",
    "    \n",
    "    plt.plot(XYl1['x'],XYl1['y'],color='blue')    \n",
    "\n",
    "    plt.text(XYl1['x'][0],XYl1['y'][1],'Pogreshnost 1 = '+str(round(otkl1,4)),color='blue')\n",
    "    plt.text((XYl1['x'][1]-(XYl1['x'][1]-XYl1['x'][0])*0.15),XYl1['y'][1],'line 1',color='blue')\n",
    "    plt.title('y = ('+str(round(a,4))+')x+('+str(round(b,4))+')')"
   ]
  },
  {
   "cell_type": "code",
   "execution_count": 166,
   "metadata": {},
   "outputs": [],
   "source": [
    "def line(x, a, b, s):\n",
    "    y = a*x + b\n",
    "    y += s * np.random.randn(len(y))    \n",
    "    return np.array([x,y])"
   ]
  },
  {
   "cell_type": "code",
   "execution_count": 167,
   "metadata": {},
   "outputs": [],
   "source": [
    "def noise(MinXY,MaxXY,size_points):\n",
    "    return [[rd.uniform(MinXY[0],MaxXY[0]) for i in range(size_points)],[rd.uniform(MinXY[1],MaxXY[1]) for i in range(size_points)]]"
   ]
  },
  {
   "cell_type": "code",
   "execution_count": 168,
   "metadata": {},
   "outputs": [],
   "source": [
    "size_points = {'noise':70,'line':20}\n",
    "inter = {'min':1,'max':500}\n",
    "inter['del'] = (inter['max']-inter['min'])/size_points['line']\n",
    "a = 2.\n",
    "b = 10.\n",
    "s = 1.\n",
    "\n",
    "points_line = line(np.arange(inter['min'],inter['max'],inter['del']),a,b,s)\n",
    "points_noise = noise([points_line[0][0],points_line[1][0]],[points_line[0][-1],points_line[1][-1]],size_points['noise'])\n",
    "\n",
    "points=[0.,0.]\n",
    "points[0] = np.concatenate([points_line[0],points_noise[0]])\n",
    "points[1] = np.concatenate([points_line[1],points_noise[1]])"
   ]
  },
  {
   "cell_type": "code",
   "execution_count": 169,
   "metadata": {},
   "outputs": [],
   "source": [
    "def print_RANSAC(points,t,k):\n",
    "    model = [0.,0.]\n",
    "    inline_size = 0.\n",
    "    for i in range(k):\n",
    "        model_tmp = [0.,0.]\n",
    "        inline_size_tmp = 0.\n",
    "        number_2p=[rd.randint(1,len(points[0])-1),rd.randint(1,len(points[0])-1)]        \n",
    "                \n",
    "        two_points = [[points[0][number_2p[0]],points[1][number_2p[0]]],[points[0][number_2p[1]],points[1][number_2p[1]]]]\n",
    "        a,b = print_line_2points(two_points)\n",
    "        model_tmp = [a,b]\n",
    "        \n",
    "        for j in range(len(points[0])):\n",
    "            x = points[0][j]\n",
    "            y = points[1][j]\n",
    "            \n",
    "            y1 = a*x+(b-t)\n",
    "            y2 = a*x+(b+t)\n",
    "            \n",
    "            if (y1>y2):\n",
    "                y1,y2 = y2,y1\n",
    "            #print(y1,'<',y,'<',y2,'     inline_size_tmp = ',inline_size_tmp,'  x=',x,'  y=',y,'\\n')\n",
    "            if (y1<y and y<y2):\n",
    "                inline_size_tmp+=1\n",
    "        \n",
    "        if (inline_size< inline_size_tmp):\n",
    "            model = model_tmp\n",
    "            inline_size = inline_size_tmp\n",
    "                \n",
    "        \n",
    "    a = model[0]\n",
    "    b = model[1]\n",
    "    XYl={'x':[min(points[0]),max(points[0])]}\n",
    "    XYl['y'] = [a*x+b for x in XYl['x']]\n",
    "    \n",
    "    Y_t=[[a*x+b-t for x in XYl['x']],[a*x+b+t for x in XYl['x']]]\n",
    "    \n",
    "    \n",
    "    plt.plot(points[0],points[1],'ro')\n",
    "    \n",
    "    plt.plot(XYl['x'],XYl['y'],color='blue')\n",
    "    plt.plot(XYl['x'],Y_t[0],color='green', linestyle = '--')\n",
    "    plt.plot(XYl['x'],Y_t[1],color='green', linestyle = '--')\n",
    "    plt.title('y = ('+str(round(a,4))+')x+('+str(round(b,4))+')')"
   ]
  },
  {
   "cell_type": "code",
   "execution_count": 170,
   "metadata": {},
   "outputs": [],
   "source": [
    "XYp={'x':points[0],'y':points[1]}"
   ]
  },
  {
   "cell_type": "code",
   "execution_count": 171,
   "metadata": {},
   "outputs": [
    {
     "data": {
      "image/png": "[encoded data removed]",
      "text/plain": [
       "<Figure size 432x288 with 1 Axes>"
      ]
     },
     "metadata": {
      "needs_background": "light"
     },
     "output_type": "display_data"
    }
   ],
   "source": [
    "print_line(XYp)#"
   ]
  },
  {
   "cell_type": "code",
   "execution_count": 172,
   "metadata": {},
   "outputs": [
    {
     "data": {
      "image/png": "[encoded data removed]",
      "text/plain": [
       "<Figure size 432x288 with 1 Axes>"
      ]
     },
     "metadata": {
      "needs_background": "light"
     },
     "output_type": "display_data"
    }
   ],
   "source": [
    "print_RANSAC(points,40,150)"
   ]
  },
  {
   "cell_type": "code",
   "execution_count": null,
   "metadata": {},
   "outputs": [],
   "source": []
  },
  {
   "cell_type": "code",
   "execution_count": null,
   "metadata": {},
   "outputs": [],
   "source": []
  }
 ],
 "metadata": {
  "kernelspec": {
   "display_name": "Python 3",
   "language": "python",
   "name": "python3"
  },
  "language_info": {
   "codemirror_mode": {
    "name": "ipython",
    "version": 3
   },
   "file_extension": ".py",
   "mimetype": "text/x-python",
   "name": "python",
   "nbconvert_exporter": "python",
   "pygments_lexer": "ipython3",
   "version": "3.7.3"
  }
 },
 "nbformat": 4,
 "nbformat_minor": 2
}
